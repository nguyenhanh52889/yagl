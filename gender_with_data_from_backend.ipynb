{
  "nbformat": 4,
  "nbformat_minor": 0,
  "metadata": {
    "colab": {
      "name": "gender",
      "version": "0.3.2",
      "provenance": [],
      "collapsed_sections": []
    },
    "kernelspec": {
      "name": "python3",
      "display_name": "Python 3"
    }
  },
  "cells": [
    {
      "metadata": {
        "id": "FvW3exL2G-c_",
        "colab_type": "code",
        "outputId": "73e43670-e56b-4419-9a22-dd0524abce88",
        "colab": {
          "base_uri": "https://localhost:8080/",
          "height": 141
        }
      },
      "cell_type": "code",
      "source": [
        "!apt-get update -qq 2>&1 > /dev/null\n",
        "!apt-get install -y -qq software-properties-common python-software-properties module-init-tools\n",
        "!add-apt-repository -y ppa:alessandro-strada/ppa 2>&1 > /dev/null\n",
        "!apt-get update -qq 2>&1 > /dev/null\n",
        "!apt-get -y install -qq google-drive-ocamlfuse fuse"
      ],
      "execution_count": 0,
      "outputs": [
        {
          "output_type": "stream",
          "text": [
            "E: Package 'python-software-properties' has no installation candidate\n",
            "Selecting previously unselected package google-drive-ocamlfuse.\n",
            "(Reading database ... 131323 files and directories currently installed.)\n",
            "Preparing to unpack .../google-drive-ocamlfuse_0.7.1-0ubuntu3~ubuntu18.04.1_amd64.deb ...\n",
            "Unpacking google-drive-ocamlfuse (0.7.1-0ubuntu3~ubuntu18.04.1) ...\n",
            "Setting up google-drive-ocamlfuse (0.7.1-0ubuntu3~ubuntu18.04.1) ...\n",
            "Processing triggers for man-db (2.8.3-2ubuntu0.1) ...\n"
          ],
          "name": "stdout"
        }
      ]
    },
    {
      "metadata": {
        "id": "eHX-PI4ZHHak",
        "colab_type": "code",
        "outputId": "551fa1c9-4232-49cb-9d40-a82b64b6acc1",
        "colab": {
          "base_uri": "https://localhost:8080/",
          "height": 125
        }
      },
      "cell_type": "code",
      "source": [
        "from google.colab import drive\n",
        "drive.mount('/content/drive')"
      ],
      "execution_count": 0,
      "outputs": [
        {
          "output_type": "stream",
          "text": [
            "Go to this URL in a browser: https://accounts.google.com/o/oauth2/auth?client_id=947318989803-6bn6qk8qdgf4n4g3pfee6491hc0brc4i.apps.googleusercontent.com&redirect_uri=urn%3Aietf%3Awg%3Aoauth%3A2.0%3Aoob&scope=email%20https%3A%2F%2Fwww.googleapis.com%2Fauth%2Fdocs.test%20https%3A%2F%2Fwww.googleapis.com%2Fauth%2Fdrive%20https%3A%2F%2Fwww.googleapis.com%2Fauth%2Fdrive.photos.readonly%20https%3A%2F%2Fwww.googleapis.com%2Fauth%2Fpeopleapi.readonly&response_type=code\n",
            "\n",
            "Enter your authorization code:\n",
            "··········\n",
            "Mounted at /content/drive\n"
          ],
          "name": "stdout"
        }
      ]
    },
    {
      "metadata": {
        "id": "6bu19JjjHHeR",
        "colab_type": "code",
        "outputId": "f7686de0-968d-46af-a6b8-f156b207db7e",
        "colab": {
          "base_uri": "https://localhost:8080/",
          "height": 34
        }
      },
      "cell_type": "code",
      "source": [
        "%cd drive/My Drive/Project ABBYY/gicrapi"
      ],
      "execution_count": 0,
      "outputs": [
        {
          "output_type": "stream",
          "text": [
            "/content/drive/My Drive/Project ABBYY/gicrapi\n"
          ],
          "name": "stdout"
        }
      ]
    },
    {
      "metadata": {
        "id": "_ZvukMx_HHj7",
        "colab_type": "code",
        "outputId": "f9cc4dc1-7146-46bd-e784-44a53349fb77",
        "colab": {
          "base_uri": "https://localhost:8080/",
          "height": 70
        }
      },
      "cell_type": "code",
      "source": [
        "!ls"
      ],
      "execution_count": 0,
      "outputs": [
        {
          "output_type": "stream",
          "text": [
            "2.ipynb\t\t      demo1.py\t    gicr\t\t       Untitled0.ipynb\n",
            "data.csv\t      demo1.sh\t    parser.ipynb\t       vk_part.tnt.xml\n",
            "data_normal_form.csv  gender.ipynb  text_classification.ipynb\n"
          ],
          "name": "stdout"
        }
      ]
    },
    {
      "metadata": {
        "id": "qpnwU3blHHo7",
        "colab_type": "code",
        "colab": {}
      },
      "cell_type": "code",
      "source": [
        "from lxml import etree\n",
        "import numpy as np\n",
        "import pandas as pd\n",
        "import re"
      ],
      "execution_count": 0,
      "outputs": []
    },
    {
      "metadata": {
        "id": "lg24IhdlZXsm",
        "colab_type": "code",
        "outputId": "95e42ca3-6dde-47c0-ac8d-28536d17d8ad",
        "colab": {
          "base_uri": "https://localhost:8080/",
          "height": 34
        }
      },
      "cell_type": "code",
      "source": [
        "data = pd.read_csv('data.csv')\n",
        "data.shape"
      ],
      "execution_count": 0,
      "outputs": [
        {
          "output_type": "execute_result",
          "data": {
            "text/plain": [
              "(208656, 2)"
            ]
          },
          "metadata": {
            "tags": []
          },
          "execution_count": 7
        }
      ]
    },
    {
      "metadata": {
        "id": "RYjFijPDdg6d",
        "colab_type": "text"
      },
      "cell_type": "markdown",
      "source": [
        "#New data"
      ]
    },
    {
      "metadata": {
        "id": "RfLSX8JhTbLa",
        "colab_type": "code",
        "outputId": "66d40652-84b4-41ee-c853-2c2939f39762",
        "colab": {
          "base_uri": "https://localhost:8080/",
          "height": 1906
        }
      },
      "cell_type": "code",
      "source": [
        "data"
      ],
      "execution_count": 0,
      "outputs": [
        {
          "output_type": "execute_result",
          "data": {
            "text/html": [
              "<div>\n",
              "<style scoped>\n",
              "    .dataframe tbody tr th:only-of-type {\n",
              "        vertical-align: middle;\n",
              "    }\n",
              "\n",
              "    .dataframe tbody tr th {\n",
              "        vertical-align: top;\n",
              "    }\n",
              "\n",
              "    .dataframe thead th {\n",
              "        text-align: right;\n",
              "    }\n",
              "</style>\n",
              "<table border=\"1\" class=\"dataframe\">\n",
              "  <thead>\n",
              "    <tr style=\"text-align: right;\">\n",
              "      <th></th>\n",
              "      <th>sex</th>\n",
              "      <th>text</th>\n",
              "    </tr>\n",
              "  </thead>\n",
              "  <tbody>\n",
              "    <tr>\n",
              "      <th>0</th>\n",
              "      <td>female</td>\n",
              "      <td>[посвящаться, , класс, и, весь, кто, понимать,...</td>\n",
              "    </tr>\n",
              "    <tr>\n",
              "      <th>1</th>\n",
              "      <td>female</td>\n",
              "      <td>[, класс, разбирать, слово, основать, на, мета...</td>\n",
              "    </tr>\n",
              "    <tr>\n",
              "      <th>2</th>\n",
              "      <td>female</td>\n",
              "      <td>[выпустить, ученик, и, сидеть, с, он, в, ресто...</td>\n",
              "    </tr>\n",
              "    <tr>\n",
              "      <th>3</th>\n",
              "      <td>female</td>\n",
              "      <td>[подготовка, к, егэ, текст, для, написание, со...</td>\n",
              "    </tr>\n",
              "    <tr>\n",
              "      <th>4</th>\n",
              "      <td>female</td>\n",
              "      <td>[очень, близко, набортворчество]</td>\n",
              "    </tr>\n",
              "    <tr>\n",
              "      <th>5</th>\n",
              "      <td>female</td>\n",
              "      <td>[спец, делиться, впечатление, я, я, тут, купит...</td>\n",
              "    </tr>\n",
              "    <tr>\n",
              "      <th>6</th>\n",
              "      <td>female</td>\n",
              "      <td>[дыхание, мрачный, покров, ночь, опустить, буд...</td>\n",
              "    </tr>\n",
              "    <tr>\n",
              "      <th>7</th>\n",
              "      <td>female</td>\n",
              "      <td>[танец, показательный, выход, по, один, пара, ...</td>\n",
              "    </tr>\n",
              "    <tr>\n",
              "      <th>8</th>\n",
              "      <td>female</td>\n",
              "      <td>[просто, перерыв, у, ]</td>\n",
              "    </tr>\n",
              "    <tr>\n",
              "      <th>9</th>\n",
              "      <td>female</td>\n",
              "      <td>[вы, на, химия, смешать, весь, что, быть, под,...</td>\n",
              "    </tr>\n",
              "    <tr>\n",
              "      <th>10</th>\n",
              "      <td>female</td>\n",
              "      <td>[слышать, вдруг, звонок, к, обед, , быстро, к,...</td>\n",
              "    </tr>\n",
              "    <tr>\n",
              "      <th>11</th>\n",
              "      <td>female</td>\n",
              "      <td>[приходить, в, раздевалка, и, снимать, весь, о...</td>\n",
              "    </tr>\n",
              "    <tr>\n",
              "      <th>12</th>\n",
              "      <td>female</td>\n",
              "      <td>[автопортрет, тим, вытряхивать, из, рюкзак, ве...</td>\n",
              "    </tr>\n",
              "    <tr>\n",
              "      <th>13</th>\n",
              "      <td>female</td>\n",
              "      <td>[пара, , класс, фонетика, разбирать, отношение...</td>\n",
              "    </tr>\n",
              "    <tr>\n",
              "      <th>14</th>\n",
              "      <td>male</td>\n",
              "      <td>[шёнберг]</td>\n",
              "    </tr>\n",
              "    <tr>\n",
              "      <th>15</th>\n",
              "      <td>female</td>\n",
              "      <td>[автопортрет, праздничный, ночь, закончиться, ...</td>\n",
              "    </tr>\n",
              "    <tr>\n",
              "      <th>16</th>\n",
              "      <td>female</td>\n",
              "      <td>[, входить, в, учительский, у, закрываться, дв...</td>\n",
              "    </tr>\n",
              "    <tr>\n",
              "      <th>17</th>\n",
              "      <td>female</td>\n",
              "      <td>[он, стоялый, на, выступ, скал, и, долго, смот...</td>\n",
              "    </tr>\n",
              "    <tr>\n",
              "      <th>18</th>\n",
              "      <td>female</td>\n",
              "      <td>[автопортрет, в, этот, вечер, весь, стараться,...</td>\n",
              "    </tr>\n",
              "    <tr>\n",
              "      <th>19</th>\n",
              "      <td>female</td>\n",
              "      <td>[автопортрет, на, стена, много, надпись, и, ри...</td>\n",
              "    </tr>\n",
              "    <tr>\n",
              "      <th>20</th>\n",
              "      <td>female</td>\n",
              "      <td>[литр, , любовь, настя, и, юра, , двойняшка, о...</td>\n",
              "    </tr>\n",
              "    <tr>\n",
              "      <th>21</th>\n",
              "      <td>female</td>\n",
              "      <td>[апробация, , ну, а, ваш, ровесник, , они, мне...</td>\n",
              "    </tr>\n",
              "    <tr>\n",
              "      <th>22</th>\n",
              "      <td>female</td>\n",
              "      <td>[задумать, новый, ну, а, пока, это, анябанникт...</td>\n",
              "    </tr>\n",
              "    <tr>\n",
              "      <th>23</th>\n",
              "      <td>male</td>\n",
              "      <td>[sun, is, shaining]</td>\n",
              "    </tr>\n",
              "    <tr>\n",
              "      <th>24</th>\n",
              "      <td>female</td>\n",
              "      <td>[автопортрет, снег, засыпать, словно, поседевш...</td>\n",
              "    </tr>\n",
              "    <tr>\n",
              "      <th>25</th>\n",
              "      <td>female</td>\n",
              "      <td>[нет, приятный, занятие, чем, чайка, попить, н...</td>\n",
              "    </tr>\n",
              "    <tr>\n",
              "      <th>26</th>\n",
              "      <td>female</td>\n",
              "      <td>[спец, катя, рассказывать, про, диалект, обсуж...</td>\n",
              "    </tr>\n",
              "    <tr>\n",
              "      <th>27</th>\n",
              "      <td>female</td>\n",
              "      <td>[если, ехать, очень, долго, вы, от, дом, до, л...</td>\n",
              "    </tr>\n",
              "    <tr>\n",
              "      <th>28</th>\n",
              "      <td>female</td>\n",
              "      <td>[готовиться, к, регион, ан, и, тут, мы, получа...</td>\n",
              "    </tr>\n",
              "    <tr>\n",
              "      <th>29</th>\n",
              "      <td>female</td>\n",
              "      <td>[и, ещё, немного, поэзия, из, динамик, такси, ...</td>\n",
              "    </tr>\n",
              "    <tr>\n",
              "      <th>...</th>\n",
              "      <td>...</td>\n",
              "      <td>...</td>\n",
              "    </tr>\n",
              "    <tr>\n",
              "      <th>208626</th>\n",
              "      <td>female</td>\n",
              "      <td>[старый, бомж, под, куст, лежать, обойти, стор...</td>\n",
              "    </tr>\n",
              "    <tr>\n",
              "      <th>208627</th>\n",
              "      <td>female</td>\n",
              "      <td>[момент, время, мой, сын, бежать, с, щенок, хо...</td>\n",
              "    </tr>\n",
              "    <tr>\n",
              "      <th>208628</th>\n",
              "      <td>female</td>\n",
              "      <td>[скорость, под, двести, точка, кипение, слово,...</td>\n",
              "    </tr>\n",
              "    <tr>\n",
              "      <th>208629</th>\n",
              "      <td>female</td>\n",
              "      <td>[зачем, ты, крыло, если, смириться, с, удел, п...</td>\n",
              "    </tr>\n",
              "    <tr>\n",
              "      <th>208630</th>\n",
              "      <td>female</td>\n",
              "      <td>[большой, человек, , только, он, тень, а, я, ч...</td>\n",
              "    </tr>\n",
              "    <tr>\n",
              "      <th>208631</th>\n",
              "      <td>female</td>\n",
              "      <td>[только, бы, не, забыть, не, растерять, в, быт...</td>\n",
              "    </tr>\n",
              "    <tr>\n",
              "      <th>208632</th>\n",
              "      <td>female</td>\n",
              "      <td>[ну, а, на, самый, дело, конечно, чудо, не, бы...</td>\n",
              "    </tr>\n",
              "    <tr>\n",
              "      <th>208633</th>\n",
              "      <td>female</td>\n",
              "      <td>[этот, город, когда-нибудь, съесть, я, без, ос...</td>\n",
              "    </tr>\n",
              "    <tr>\n",
              "      <th>208634</th>\n",
              "      <td>female</td>\n",
              "      <td>[день, рождение, у, ваш, два, половинка, близи...</td>\n",
              "    </tr>\n",
              "    <tr>\n",
              "      <th>208635</th>\n",
              "      <td>female</td>\n",
              "      <td>[я, , мама, в, декрет, ни, большой, ни, малень...</td>\n",
              "    </tr>\n",
              "    <tr>\n",
              "      <th>208636</th>\n",
              "      <td>female</td>\n",
              "      <td>[жить, стараться, казаться, хороший, бросить, ...</td>\n",
              "    </tr>\n",
              "    <tr>\n",
              "      <th>208637</th>\n",
              "      <td>female</td>\n",
              "      <td>[увезти, я, отсюда, далёкий, увезти, я, пожалу...</td>\n",
              "    </tr>\n",
              "    <tr>\n",
              "      <th>208638</th>\n",
              "      <td>female</td>\n",
              "      <td>[взять, я, в, космонавт, я, быть, ужасно, стар...</td>\n",
              "    </tr>\n",
              "    <tr>\n",
              "      <th>208639</th>\n",
              "      <td>female</td>\n",
              "      <td>[административный, я, не, быть, печататься, в,...</td>\n",
              "    </tr>\n",
              "    <tr>\n",
              "      <th>208640</th>\n",
              "      <td>female</td>\n",
              "      <td>[в, тишина, сильный, выть, ветер, в, темнота, ...</td>\n",
              "    </tr>\n",
              "    <tr>\n",
              "      <th>208641</th>\n",
              "      <td>female</td>\n",
              "      <td>[чем, я, жить, да, в, общий-то, ничто, о, чем,...</td>\n",
              "    </tr>\n",
              "    <tr>\n",
              "      <th>208642</th>\n",
              "      <td>female</td>\n",
              "      <td>[она, весь, жизнь, быть, он, малышка, даже, ко...</td>\n",
              "    </tr>\n",
              "    <tr>\n",
              "      <th>208643</th>\n",
              "      <td>female</td>\n",
              "      <td>[я, уметь, ходить, зеркало, я, почти, как, али...</td>\n",
              "    </tr>\n",
              "    <tr>\n",
              "      <th>208644</th>\n",
              "      <td>female</td>\n",
              "      <td>[я, сегодня, не, мочь, уснуть, сильный, дождь,...</td>\n",
              "    </tr>\n",
              "    <tr>\n",
              "      <th>208645</th>\n",
              "      <td>female</td>\n",
              "      <td>[давать, с, ты, прикинуться, нормальный, как, ...</td>\n",
              "    </tr>\n",
              "    <tr>\n",
              "      <th>208646</th>\n",
              "      <td>female</td>\n",
              "      <td>[тонкий, чувствовать, , лёгкий, рваться, завес...</td>\n",
              "    </tr>\n",
              "    <tr>\n",
              "      <th>208647</th>\n",
              "      <td>female</td>\n",
              "      <td>[ой, ну, вот, только, не, надо, весь, усложнят...</td>\n",
              "    </tr>\n",
              "    <tr>\n",
              "      <th>208648</th>\n",
              "      <td>female</td>\n",
              "      <td>[давать, немного, помолчать, слышать, там, в, ...</td>\n",
              "    </tr>\n",
              "    <tr>\n",
              "      <th>208649</th>\n",
              "      <td>female</td>\n",
              "      <td>[я, тут, короче, повступать, в, всякий, группа...</td>\n",
              "    </tr>\n",
              "    <tr>\n",
              "      <th>208650</th>\n",
              "      <td>female</td>\n",
              "      <td>[а, если, на, миг, представить, что, весь, сло...</td>\n",
              "    </tr>\n",
              "    <tr>\n",
              "      <th>208651</th>\n",
              "      <td>female</td>\n",
              "      <td>[жить, стараться, казаться, хороший, бросить, ...</td>\n",
              "    </tr>\n",
              "    <tr>\n",
              "      <th>208652</th>\n",
              "      <td>female</td>\n",
              "      <td>[я, принести, домой, мальчишка, в, одеяло, кри...</td>\n",
              "    </tr>\n",
              "    <tr>\n",
              "      <th>208653</th>\n",
              "      <td>female</td>\n",
              "      <td>[когда-нибудь, я, стать, очень, старый, из, мо...</td>\n",
              "    </tr>\n",
              "    <tr>\n",
              "      <th>208654</th>\n",
              "      <td>female</td>\n",
              "      <td>[я, обязательно, научиться, жить, правильно, с...</td>\n",
              "    </tr>\n",
              "    <tr>\n",
              "      <th>208655</th>\n",
              "      <td>female</td>\n",
              "      <td>[пока, я, таскаться, по, света, с, крест, на, ...</td>\n",
              "    </tr>\n",
              "  </tbody>\n",
              "</table>\n",
              "<p>208656 rows × 2 columns</p>\n",
              "</div>"
            ],
            "text/plain": [
              "           sex                                               text\n",
              "0       female  [посвящаться, , класс, и, весь, кто, понимать,...\n",
              "1       female  [, класс, разбирать, слово, основать, на, мета...\n",
              "2       female  [выпустить, ученик, и, сидеть, с, он, в, ресто...\n",
              "3       female  [подготовка, к, егэ, текст, для, написание, со...\n",
              "4       female                   [очень, близко, набортворчество]\n",
              "5       female  [спец, делиться, впечатление, я, я, тут, купит...\n",
              "6       female  [дыхание, мрачный, покров, ночь, опустить, буд...\n",
              "7       female  [танец, показательный, выход, по, один, пара, ...\n",
              "8       female                             [просто, перерыв, у, ]\n",
              "9       female  [вы, на, химия, смешать, весь, что, быть, под,...\n",
              "10      female  [слышать, вдруг, звонок, к, обед, , быстро, к,...\n",
              "11      female  [приходить, в, раздевалка, и, снимать, весь, о...\n",
              "12      female  [автопортрет, тим, вытряхивать, из, рюкзак, ве...\n",
              "13      female  [пара, , класс, фонетика, разбирать, отношение...\n",
              "14        male                                          [шёнберг]\n",
              "15      female  [автопортрет, праздничный, ночь, закончиться, ...\n",
              "16      female  [, входить, в, учительский, у, закрываться, дв...\n",
              "17      female  [он, стоялый, на, выступ, скал, и, долго, смот...\n",
              "18      female  [автопортрет, в, этот, вечер, весь, стараться,...\n",
              "19      female  [автопортрет, на, стена, много, надпись, и, ри...\n",
              "20      female  [литр, , любовь, настя, и, юра, , двойняшка, о...\n",
              "21      female  [апробация, , ну, а, ваш, ровесник, , они, мне...\n",
              "22      female  [задумать, новый, ну, а, пока, это, анябанникт...\n",
              "23        male                                [sun, is, shaining]\n",
              "24      female  [автопортрет, снег, засыпать, словно, поседевш...\n",
              "25      female  [нет, приятный, занятие, чем, чайка, попить, н...\n",
              "26      female  [спец, катя, рассказывать, про, диалект, обсуж...\n",
              "27      female  [если, ехать, очень, долго, вы, от, дом, до, л...\n",
              "28      female  [готовиться, к, регион, ан, и, тут, мы, получа...\n",
              "29      female  [и, ещё, немного, поэзия, из, динамик, такси, ...\n",
              "...        ...                                                ...\n",
              "208626  female  [старый, бомж, под, куст, лежать, обойти, стор...\n",
              "208627  female  [момент, время, мой, сын, бежать, с, щенок, хо...\n",
              "208628  female  [скорость, под, двести, точка, кипение, слово,...\n",
              "208629  female  [зачем, ты, крыло, если, смириться, с, удел, п...\n",
              "208630  female  [большой, человек, , только, он, тень, а, я, ч...\n",
              "208631  female  [только, бы, не, забыть, не, растерять, в, быт...\n",
              "208632  female  [ну, а, на, самый, дело, конечно, чудо, не, бы...\n",
              "208633  female  [этот, город, когда-нибудь, съесть, я, без, ос...\n",
              "208634  female  [день, рождение, у, ваш, два, половинка, близи...\n",
              "208635  female  [я, , мама, в, декрет, ни, большой, ни, малень...\n",
              "208636  female  [жить, стараться, казаться, хороший, бросить, ...\n",
              "208637  female  [увезти, я, отсюда, далёкий, увезти, я, пожалу...\n",
              "208638  female  [взять, я, в, космонавт, я, быть, ужасно, стар...\n",
              "208639  female  [административный, я, не, быть, печататься, в,...\n",
              "208640  female  [в, тишина, сильный, выть, ветер, в, темнота, ...\n",
              "208641  female  [чем, я, жить, да, в, общий-то, ничто, о, чем,...\n",
              "208642  female  [она, весь, жизнь, быть, он, малышка, даже, ко...\n",
              "208643  female  [я, уметь, ходить, зеркало, я, почти, как, али...\n",
              "208644  female  [я, сегодня, не, мочь, уснуть, сильный, дождь,...\n",
              "208645  female  [давать, с, ты, прикинуться, нормальный, как, ...\n",
              "208646  female  [тонкий, чувствовать, , лёгкий, рваться, завес...\n",
              "208647  female  [ой, ну, вот, только, не, надо, весь, усложнят...\n",
              "208648  female  [давать, немного, помолчать, слышать, там, в, ...\n",
              "208649  female  [я, тут, короче, повступать, в, всякий, группа...\n",
              "208650  female  [а, если, на, миг, представить, что, весь, сло...\n",
              "208651  female  [жить, стараться, казаться, хороший, бросить, ...\n",
              "208652  female  [я, принести, домой, мальчишка, в, одеяло, кри...\n",
              "208653  female  [когда-нибудь, я, стать, очень, старый, из, мо...\n",
              "208654  female  [я, обязательно, научиться, жить, правильно, с...\n",
              "208655  female  [пока, я, таскаться, по, света, с, крест, на, ...\n",
              "\n",
              "[208656 rows x 2 columns]"
            ]
          },
          "metadata": {
            "tags": []
          },
          "execution_count": 71
        }
      ]
    },
    {
      "metadata": {
        "id": "c4GI-6r82ceI",
        "colab_type": "text"
      },
      "cell_type": "markdown",
      "source": [
        "#Change to infinitive "
      ]
    },
    {
      "metadata": {
        "id": "P2v0cWNicf1B",
        "colab_type": "code",
        "outputId": "7c4e8b3e-5848-43e2-a9c3-1228c791c924",
        "colab": {
          "base_uri": "https://localhost:8080/",
          "height": 212
        }
      },
      "cell_type": "code",
      "source": [
        "!pip3 install pymorphy2"
      ],
      "execution_count": 0,
      "outputs": [
        {
          "output_type": "stream",
          "text": [
            "Collecting pymorphy2\n",
            "\u001b[?25l  Downloading https://files.pythonhosted.org/packages/a3/33/fff9675c68b5f6c63ec8c6e6ff57827dda28a1fa5b2c2d727dffff92dd47/pymorphy2-0.8-py2.py3-none-any.whl (46kB)\n",
            "\u001b[K    100% |████████████████████████████████| 51kB 2.0MB/s \n",
            "\u001b[?25hCollecting dawg-python>=0.7 (from pymorphy2)\n",
            "  Downloading https://files.pythonhosted.org/packages/6a/84/ff1ce2071d4c650ec85745766c0047ccc3b5036f1d03559fd46bb38b5eeb/DAWG_Python-0.7.2-py2.py3-none-any.whl\n",
            "Collecting pymorphy2-dicts<3.0,>=2.4 (from pymorphy2)\n",
            "\u001b[?25l  Downloading https://files.pythonhosted.org/packages/02/51/2465fd4f72328ab50877b54777764d928da8cb15b74e2680fc1bd8cb3173/pymorphy2_dicts-2.4.393442.3710985-py2.py3-none-any.whl (7.1MB)\n",
            "\u001b[K    100% |████████████████████████████████| 7.1MB 3.8MB/s \n",
            "\u001b[?25hRequirement already satisfied: docopt>=0.6 in /usr/local/lib/python3.6/dist-packages (from pymorphy2) (0.6.2)\n",
            "Installing collected packages: dawg-python, pymorphy2-dicts, pymorphy2\n",
            "Successfully installed dawg-python-0.7.2 pymorphy2-0.8 pymorphy2-dicts-2.4.393442.3710985\n"
          ],
          "name": "stdout"
        }
      ]
    },
    {
      "metadata": {
        "id": "v9vEtha7br6x",
        "colab_type": "code",
        "colab": {}
      },
      "cell_type": "code",
      "source": [
        "import pymorphy2\n",
        "morph = pymorphy2.MorphAnalyzer()"
      ],
      "execution_count": 0,
      "outputs": []
    },
    {
      "metadata": {
        "id": "TQ2kET29h98J",
        "colab_type": "code",
        "colab": {}
      },
      "cell_type": "code",
      "source": [
        "def split_text(text):\n",
        "  return [x.strip('\"({[]})[&?<>/\\:;,*^!@#+-=._%$0123457689') for x in text.split()]"
      ],
      "execution_count": 0,
      "outputs": []
    },
    {
      "metadata": {
        "id": "WQp8-TRtmra4",
        "colab_type": "code",
        "colab": {}
      },
      "cell_type": "code",
      "source": [
        "def to_normal_form(text):\n",
        "  result = []\n",
        "  for word in text:\n",
        "    parsed = morph.parse(word)[0]\n",
        "    res = parsed.normal_form\n",
        "    result.append(res)\n",
        "  return result"
      ],
      "execution_count": 0,
      "outputs": []
    },
    {
      "metadata": {
        "id": "tbwcU4mzZvyj",
        "colab_type": "code",
        "colab": {}
      },
      "cell_type": "code",
      "source": [
        "data['text'] = [to_normal_form(split_text(text)) for text in data['text']]"
      ],
      "execution_count": 0,
      "outputs": []
    },
    {
      "metadata": {
        "id": "iQ5Tzzvt44LN",
        "colab_type": "code",
        "colab": {}
      },
      "cell_type": "code",
      "source": [
        "data.to_csv('data_normal_form.csv', sep='\\t', encoding='utf-8')"
      ],
      "execution_count": 0,
      "outputs": []
    },
    {
      "metadata": {
        "id": "6_f9Piqs2nco",
        "colab_type": "text"
      },
      "cell_type": "markdown",
      "source": [
        "#Find keyness of words by groups.\n",
        "https://www.sketchengine.eu/wp-content/uploads/ske-statistics.pdf"
      ]
    },
    {
      "metadata": {
        "id": "XWIzS14kIpSJ",
        "colab_type": "code",
        "colab": {}
      },
      "cell_type": "code",
      "source": [
        "data_F = data[data.sex == \"female\"]\n",
        "data_M = data[data.sex == \"male\"]"
      ],
      "execution_count": 0,
      "outputs": []
    },
    {
      "metadata": {
        "id": "cp8RYsAVd0SP",
        "colab_type": "code",
        "outputId": "2d763ee2-116c-4a4f-d48b-c6fdbb253ba0",
        "colab": {
          "base_uri": "https://localhost:8080/",
          "height": 52
        }
      },
      "cell_type": "code",
      "source": [
        "print(data_F.shape)\n",
        "print(data_M.shape)"
      ],
      "execution_count": 0,
      "outputs": [
        {
          "output_type": "stream",
          "text": [
            "(113325, 2)\n",
            "(95331, 2)\n"
          ],
          "name": "stdout"
        }
      ]
    },
    {
      "metadata": {
        "id": "uTjQ7SnrjI1U",
        "colab_type": "code",
        "colab": {}
      },
      "cell_type": "code",
      "source": [
        "def bag_words(data):\n",
        "  bag = {}\n",
        "  for sentence in data['text']:\n",
        "    for word in sentence:\n",
        "      if word != \"\":\n",
        "        if bag.get(word) != None:\n",
        "            bag[word] = bag[word] + 1\n",
        "        else:\n",
        "            bag.update({word : 1})\n",
        "  return bag"
      ],
      "execution_count": 0,
      "outputs": []
    },
    {
      "metadata": {
        "id": "deiySlX0M3fp",
        "colab_type": "code",
        "colab": {}
      },
      "cell_type": "code",
      "source": [
        "bag_F = bag_words(data_F)\n",
        "bag_M = bag_words(data_M)"
      ],
      "execution_count": 0,
      "outputs": []
    },
    {
      "metadata": {
        "id": "r05PPUpWoLFv",
        "colab_type": "code",
        "colab": {}
      },
      "cell_type": "code",
      "source": [
        "from collections import Counter\n",
        "cbag = Counter(bag_F) + Counter(bag_M)\n",
        "bag = dict(cbag)"
      ],
      "execution_count": 0,
      "outputs": []
    },
    {
      "metadata": {
        "id": "EJV6MHqgqQT6",
        "colab_type": "code",
        "colab": {}
      },
      "cell_type": "code",
      "source": [
        "def normal(bag):\n",
        "  count_word = sum(bag.values())\n",
        "  return {key : bag[key] / count_word for key in bag.keys()}"
      ],
      "execution_count": 0,
      "outputs": []
    },
    {
      "metadata": {
        "id": "pBHov_DVpTJo",
        "colab_type": "code",
        "colab": {}
      },
      "cell_type": "code",
      "source": [
        "def keyness(bag, n, dic_normal):\n",
        "  return {key : (bag[key] + n)/(dic_normal[key] + n) for key in bag.keys()}"
      ],
      "execution_count": 0,
      "outputs": []
    },
    {
      "metadata": {
        "id": "TptmSj0cXFx5",
        "colab_type": "code",
        "colab": {}
      },
      "cell_type": "code",
      "source": [
        "n = 0.03\n",
        "dic_normal = normal(bag)\n",
        "bag_F_normal = normal(bag_F)\n",
        "bag_M_normal = normal(bag_M)\n",
        "\n",
        "\n",
        "keyness_F = keyness(bag_F_normal, n, dic_normal)\n",
        "keyness_M = keyness(bag_M_normal, n, dic_normal)"
      ],
      "execution_count": 0,
      "outputs": []
    },
    {
      "metadata": {
        "id": "wDPzjwtjXl77",
        "colab_type": "code",
        "colab": {}
      },
      "cell_type": "code",
      "source": [
        "def keyword(keyness, c):\n",
        "  kw = {}\n",
        "  for key in keyness.keys():\n",
        "    if keyness[key] > c:\n",
        "      kw.update({key: keyness[key]})\n",
        "  return kw"
      ],
      "execution_count": 0,
      "outputs": []
    },
    {
      "metadata": {
        "id": "WB7U1a6MxknA",
        "colab_type": "code",
        "colab": {}
      },
      "cell_type": "code",
      "source": [
        "c = 0.\n",
        "keyword_F = keyword(keyness_F, c)\n",
        "keyword_M = keyword(keyness_M, c)"
      ],
      "execution_count": 0,
      "outputs": []
    },
    {
      "metadata": {
        "id": "hT8Ojgs8HaJ0",
        "colab_type": "code",
        "outputId": "b80ed54b-aac2-4214-95e5-3b1a6f6875d4",
        "colab": {
          "base_uri": "https://localhost:8080/",
          "height": 34
        }
      },
      "cell_type": "code",
      "source": [
        "min(keyword_F.values())"
      ],
      "execution_count": 0,
      "outputs": [
        {
          "output_type": "execute_result",
          "data": {
            "text/plain": [
              "0.9589827281488879"
            ]
          },
          "metadata": {
            "tags": []
          },
          "execution_count": 26
        }
      ]
    },
    {
      "metadata": {
        "id": "yFehYWTUReOa",
        "colab_type": "text"
      },
      "cell_type": "markdown",
      "source": [
        "#Used features"
      ]
    },
    {
      "metadata": {
        "id": "SSWeFpuO3qDE",
        "colab_type": "text"
      },
      "cell_type": "markdown",
      "source": [
        "У каждого слова 2 значение: женское и мужское. Сумировать их по всем словам каждого текста. Получено: у каждого текста 2 фича: женское и мужское."
      ]
    },
    {
      "metadata": {
        "id": "oYu4xDl1R_nF",
        "colab_type": "code",
        "colab": {}
      },
      "cell_type": "code",
      "source": [
        "X_oh = pd.DataFrame(columns=['F', 'M'])\n",
        "X = data['text']\n",
        "F = 0.\n",
        "M = 0.\n",
        "n = 0.\n",
        "for sentence in X:\n",
        "  F = 0.\n",
        "  M = 0.\n",
        "  for word in sentence:\n",
        "    if keyword_F.get(word) != None:\n",
        "      a = keyword_F[word]\n",
        "    else:\n",
        "      a = 0.\n",
        "    F = F + a\n",
        "    if keyword_M.get(word) != None:\n",
        "      b = keyword_M[word]\n",
        "    else:\n",
        "      b = 0.\n",
        "    M = M + b\n",
        "  X_oh = X_oh.append({'F': F, 'M': M}, ignore_index=True)\n",
        " "
      ],
      "execution_count": 0,
      "outputs": []
    },
    {
      "metadata": {
        "id": "lK-1qIb1PWXu",
        "colab_type": "code",
        "outputId": "b0689772-0f7c-45c4-e079-f44e54ec91a1",
        "colab": {
          "base_uri": "https://localhost:8080/",
          "height": 1906
        }
      },
      "cell_type": "code",
      "source": [
        "X_oh"
      ],
      "execution_count": 0,
      "outputs": [
        {
          "output_type": "execute_result",
          "data": {
            "text/html": [
              "<div>\n",
              "<style scoped>\n",
              "    .dataframe tbody tr th:only-of-type {\n",
              "        vertical-align: middle;\n",
              "    }\n",
              "\n",
              "    .dataframe tbody tr th {\n",
              "        vertical-align: top;\n",
              "    }\n",
              "\n",
              "    .dataframe thead th {\n",
              "        text-align: right;\n",
              "    }\n",
              "</style>\n",
              "<table border=\"1\" class=\"dataframe\">\n",
              "  <thead>\n",
              "    <tr style=\"text-align: right;\">\n",
              "      <th></th>\n",
              "      <th>F</th>\n",
              "      <th>M</th>\n",
              "    </tr>\n",
              "  </thead>\n",
              "  <tbody>\n",
              "    <tr>\n",
              "      <th>0</th>\n",
              "      <td>47.322019</td>\n",
              "      <td>45.589964</td>\n",
              "    </tr>\n",
              "    <tr>\n",
              "      <th>1</th>\n",
              "      <td>65.714540</td>\n",
              "      <td>64.090095</td>\n",
              "    </tr>\n",
              "    <tr>\n",
              "      <th>2</th>\n",
              "      <td>87.003217</td>\n",
              "      <td>83.722492</td>\n",
              "    </tr>\n",
              "    <tr>\n",
              "      <th>3</th>\n",
              "      <td>40.531813</td>\n",
              "      <td>37.322802</td>\n",
              "    </tr>\n",
              "    <tr>\n",
              "      <th>4</th>\n",
              "      <td>3.017997</td>\n",
              "      <td>1.977875</td>\n",
              "    </tr>\n",
              "    <tr>\n",
              "      <th>5</th>\n",
              "      <td>22.250015</td>\n",
              "      <td>19.681634</td>\n",
              "    </tr>\n",
              "    <tr>\n",
              "      <th>6</th>\n",
              "      <td>123.192739</td>\n",
              "      <td>120.755376</td>\n",
              "    </tr>\n",
              "    <tr>\n",
              "      <th>7</th>\n",
              "      <td>43.041449</td>\n",
              "      <td>38.947249</td>\n",
              "    </tr>\n",
              "    <tr>\n",
              "      <th>8</th>\n",
              "      <td>3.026988</td>\n",
              "      <td>2.965633</td>\n",
              "    </tr>\n",
              "    <tr>\n",
              "      <th>9</th>\n",
              "      <td>45.381518</td>\n",
              "      <td>41.515095</td>\n",
              "    </tr>\n",
              "    <tr>\n",
              "      <th>10</th>\n",
              "      <td>29.025305</td>\n",
              "      <td>26.968698</td>\n",
              "    </tr>\n",
              "    <tr>\n",
              "      <th>11</th>\n",
              "      <td>51.172819</td>\n",
              "      <td>47.780855</td>\n",
              "    </tr>\n",
              "    <tr>\n",
              "      <th>12</th>\n",
              "      <td>401.822122</td>\n",
              "      <td>393.954006</td>\n",
              "    </tr>\n",
              "    <tr>\n",
              "      <th>13</th>\n",
              "      <td>49.524975</td>\n",
              "      <td>48.331489</td>\n",
              "    </tr>\n",
              "    <tr>\n",
              "      <th>14</th>\n",
              "      <td>0.000000</td>\n",
              "      <td>1.000004</td>\n",
              "    </tr>\n",
              "    <tr>\n",
              "      <th>15</th>\n",
              "      <td>308.463360</td>\n",
              "      <td>296.863948</td>\n",
              "    </tr>\n",
              "    <tr>\n",
              "      <th>16</th>\n",
              "      <td>24.170626</td>\n",
              "      <td>23.782723</td>\n",
              "    </tr>\n",
              "    <tr>\n",
              "      <th>17</th>\n",
              "      <td>192.658807</td>\n",
              "      <td>179.162330</td>\n",
              "    </tr>\n",
              "    <tr>\n",
              "      <th>18</th>\n",
              "      <td>205.562632</td>\n",
              "      <td>200.284387</td>\n",
              "    </tr>\n",
              "    <tr>\n",
              "      <th>19</th>\n",
              "      <td>147.886424</td>\n",
              "      <td>143.872010</td>\n",
              "    </tr>\n",
              "    <tr>\n",
              "      <th>20</th>\n",
              "      <td>74.605579</td>\n",
              "      <td>72.228850</td>\n",
              "    </tr>\n",
              "    <tr>\n",
              "      <th>21</th>\n",
              "      <td>31.464921</td>\n",
              "      <td>30.407963</td>\n",
              "    </tr>\n",
              "    <tr>\n",
              "      <th>22</th>\n",
              "      <td>7.037690</td>\n",
              "      <td>5.952025</td>\n",
              "    </tr>\n",
              "    <tr>\n",
              "      <th>23</th>\n",
              "      <td>1.999957</td>\n",
              "      <td>3.000063</td>\n",
              "    </tr>\n",
              "    <tr>\n",
              "      <th>24</th>\n",
              "      <td>109.125328</td>\n",
              "      <td>97.841267</td>\n",
              "    </tr>\n",
              "    <tr>\n",
              "      <th>25</th>\n",
              "      <td>32.016081</td>\n",
              "      <td>27.980452</td>\n",
              "    </tr>\n",
              "    <tr>\n",
              "      <th>26</th>\n",
              "      <td>58.082786</td>\n",
              "      <td>54.894603</td>\n",
              "    </tr>\n",
              "    <tr>\n",
              "      <th>27</th>\n",
              "      <td>164.692304</td>\n",
              "      <td>157.845966</td>\n",
              "    </tr>\n",
              "    <tr>\n",
              "      <th>28</th>\n",
              "      <td>74.516737</td>\n",
              "      <td>69.341993</td>\n",
              "    </tr>\n",
              "    <tr>\n",
              "      <th>29</th>\n",
              "      <td>29.198779</td>\n",
              "      <td>27.746879</td>\n",
              "    </tr>\n",
              "    <tr>\n",
              "      <th>...</th>\n",
              "      <td>...</td>\n",
              "      <td>...</td>\n",
              "    </tr>\n",
              "    <tr>\n",
              "      <th>208626</th>\n",
              "      <td>100.778305</td>\n",
              "      <td>97.010564</td>\n",
              "    </tr>\n",
              "    <tr>\n",
              "      <th>208627</th>\n",
              "      <td>90.374295</td>\n",
              "      <td>86.525050</td>\n",
              "    </tr>\n",
              "    <tr>\n",
              "      <th>208628</th>\n",
              "      <td>99.538665</td>\n",
              "      <td>96.315726</td>\n",
              "    </tr>\n",
              "    <tr>\n",
              "      <th>208629</th>\n",
              "      <td>120.553085</td>\n",
              "      <td>115.297377</td>\n",
              "    </tr>\n",
              "    <tr>\n",
              "      <th>208630</th>\n",
              "      <td>13.136624</td>\n",
              "      <td>10.827691</td>\n",
              "    </tr>\n",
              "    <tr>\n",
              "      <th>208631</th>\n",
              "      <td>46.322685</td>\n",
              "      <td>43.590758</td>\n",
              "    </tr>\n",
              "    <tr>\n",
              "      <th>208632</th>\n",
              "      <td>127.401075</td>\n",
              "      <td>118.491006</td>\n",
              "    </tr>\n",
              "    <tr>\n",
              "      <th>208633</th>\n",
              "      <td>124.545023</td>\n",
              "      <td>120.307635</td>\n",
              "    </tr>\n",
              "    <tr>\n",
              "      <th>208634</th>\n",
              "      <td>193.394251</td>\n",
              "      <td>185.226223</td>\n",
              "    </tr>\n",
              "    <tr>\n",
              "      <th>208635</th>\n",
              "      <td>145.538590</td>\n",
              "      <td>141.315875</td>\n",
              "    </tr>\n",
              "    <tr>\n",
              "      <th>208636</th>\n",
              "      <td>100.445944</td>\n",
              "      <td>98.433722</td>\n",
              "    </tr>\n",
              "    <tr>\n",
              "      <th>208637</th>\n",
              "      <td>94.700324</td>\n",
              "      <td>91.109804</td>\n",
              "    </tr>\n",
              "    <tr>\n",
              "      <th>208638</th>\n",
              "      <td>83.840978</td>\n",
              "      <td>80.930680</td>\n",
              "    </tr>\n",
              "    <tr>\n",
              "      <th>208639</th>\n",
              "      <td>43.428271</td>\n",
              "      <td>40.454708</td>\n",
              "    </tr>\n",
              "    <tr>\n",
              "      <th>208640</th>\n",
              "      <td>62.233512</td>\n",
              "      <td>60.704236</td>\n",
              "    </tr>\n",
              "    <tr>\n",
              "      <th>208641</th>\n",
              "      <td>98.553046</td>\n",
              "      <td>93.297347</td>\n",
              "    </tr>\n",
              "    <tr>\n",
              "      <th>208642</th>\n",
              "      <td>185.662880</td>\n",
              "      <td>178.884171</td>\n",
              "    </tr>\n",
              "    <tr>\n",
              "      <th>208643</th>\n",
              "      <td>69.548150</td>\n",
              "      <td>63.303705</td>\n",
              "    </tr>\n",
              "    <tr>\n",
              "      <th>208644</th>\n",
              "      <td>104.868496</td>\n",
              "      <td>101.895638</td>\n",
              "    </tr>\n",
              "    <tr>\n",
              "      <th>208645</th>\n",
              "      <td>182.736249</td>\n",
              "      <td>172.790657</td>\n",
              "    </tr>\n",
              "    <tr>\n",
              "      <th>208646</th>\n",
              "      <td>84.431715</td>\n",
              "      <td>81.451855</td>\n",
              "    </tr>\n",
              "    <tr>\n",
              "      <th>208647</th>\n",
              "      <td>94.207945</td>\n",
              "      <td>89.736848</td>\n",
              "    </tr>\n",
              "    <tr>\n",
              "      <th>208648</th>\n",
              "      <td>53.451180</td>\n",
              "      <td>50.427075</td>\n",
              "    </tr>\n",
              "    <tr>\n",
              "      <th>208649</th>\n",
              "      <td>121.759003</td>\n",
              "      <td>108.035133</td>\n",
              "    </tr>\n",
              "    <tr>\n",
              "      <th>208650</th>\n",
              "      <td>121.349790</td>\n",
              "      <td>114.282788</td>\n",
              "    </tr>\n",
              "    <tr>\n",
              "      <th>208651</th>\n",
              "      <td>103.446215</td>\n",
              "      <td>100.433398</td>\n",
              "    </tr>\n",
              "    <tr>\n",
              "      <th>208652</th>\n",
              "      <td>216.157287</td>\n",
              "      <td>209.527929</td>\n",
              "    </tr>\n",
              "    <tr>\n",
              "      <th>208653</th>\n",
              "      <td>130.955890</td>\n",
              "      <td>125.784401</td>\n",
              "    </tr>\n",
              "    <tr>\n",
              "      <th>208654</th>\n",
              "      <td>159.653113</td>\n",
              "      <td>156.169931</td>\n",
              "    </tr>\n",
              "    <tr>\n",
              "      <th>208655</th>\n",
              "      <td>212.517965</td>\n",
              "      <td>206.068619</td>\n",
              "    </tr>\n",
              "  </tbody>\n",
              "</table>\n",
              "<p>208656 rows × 2 columns</p>\n",
              "</div>"
            ],
            "text/plain": [
              "                 F           M\n",
              "0        47.322019   45.589964\n",
              "1        65.714540   64.090095\n",
              "2        87.003217   83.722492\n",
              "3        40.531813   37.322802\n",
              "4         3.017997    1.977875\n",
              "5        22.250015   19.681634\n",
              "6       123.192739  120.755376\n",
              "7        43.041449   38.947249\n",
              "8         3.026988    2.965633\n",
              "9        45.381518   41.515095\n",
              "10       29.025305   26.968698\n",
              "11       51.172819   47.780855\n",
              "12      401.822122  393.954006\n",
              "13       49.524975   48.331489\n",
              "14        0.000000    1.000004\n",
              "15      308.463360  296.863948\n",
              "16       24.170626   23.782723\n",
              "17      192.658807  179.162330\n",
              "18      205.562632  200.284387\n",
              "19      147.886424  143.872010\n",
              "20       74.605579   72.228850\n",
              "21       31.464921   30.407963\n",
              "22        7.037690    5.952025\n",
              "23        1.999957    3.000063\n",
              "24      109.125328   97.841267\n",
              "25       32.016081   27.980452\n",
              "26       58.082786   54.894603\n",
              "27      164.692304  157.845966\n",
              "28       74.516737   69.341993\n",
              "29       29.198779   27.746879\n",
              "...            ...         ...\n",
              "208626  100.778305   97.010564\n",
              "208627   90.374295   86.525050\n",
              "208628   99.538665   96.315726\n",
              "208629  120.553085  115.297377\n",
              "208630   13.136624   10.827691\n",
              "208631   46.322685   43.590758\n",
              "208632  127.401075  118.491006\n",
              "208633  124.545023  120.307635\n",
              "208634  193.394251  185.226223\n",
              "208635  145.538590  141.315875\n",
              "208636  100.445944   98.433722\n",
              "208637   94.700324   91.109804\n",
              "208638   83.840978   80.930680\n",
              "208639   43.428271   40.454708\n",
              "208640   62.233512   60.704236\n",
              "208641   98.553046   93.297347\n",
              "208642  185.662880  178.884171\n",
              "208643   69.548150   63.303705\n",
              "208644  104.868496  101.895638\n",
              "208645  182.736249  172.790657\n",
              "208646   84.431715   81.451855\n",
              "208647   94.207945   89.736848\n",
              "208648   53.451180   50.427075\n",
              "208649  121.759003  108.035133\n",
              "208650  121.349790  114.282788\n",
              "208651  103.446215  100.433398\n",
              "208652  216.157287  209.527929\n",
              "208653  130.955890  125.784401\n",
              "208654  159.653113  156.169931\n",
              "208655  212.517965  206.068619\n",
              "\n",
              "[208656 rows x 2 columns]"
            ]
          },
          "metadata": {
            "tags": []
          },
          "execution_count": 58
        }
      ]
    },
    {
      "metadata": {
        "id": "NwtyeHwQuhLq",
        "colab_type": "code",
        "colab": {}
      },
      "cell_type": "code",
      "source": [
        "y = data['sex']"
      ],
      "execution_count": 0,
      "outputs": []
    },
    {
      "metadata": {
        "id": "A1eCXfeIW2yd",
        "colab_type": "code",
        "colab": {}
      },
      "cell_type": "code",
      "source": [
        "from sklearn.model_selection import train_test_split\n",
        "(X_train, X_test, y_train, y_test) = train_test_split(X_oh, y, test_size=0.1, \n",
        "                                     random_state=0)"
      ],
      "execution_count": 0,
      "outputs": []
    },
    {
      "metadata": {
        "id": "W50fv5XjZgVN",
        "colab_type": "code",
        "outputId": "e53b773e-8f27-4e58-fff5-59f83c51eb93",
        "colab": {
          "base_uri": "https://localhost:8080/",
          "height": 123
        }
      },
      "cell_type": "code",
      "source": [
        "from sklearn.linear_model import LogisticRegression\n",
        "model = LogisticRegression(class_weight='balanced')\n",
        "model.fit(X_train, y_train)"
      ],
      "execution_count": 0,
      "outputs": [
        {
          "output_type": "stream",
          "text": [
            "/usr/local/lib/python3.6/dist-packages/sklearn/linear_model/logistic.py:433: FutureWarning: Default solver will be changed to 'lbfgs' in 0.22. Specify a solver to silence this warning.\n",
            "  FutureWarning)\n"
          ],
          "name": "stderr"
        },
        {
          "output_type": "execute_result",
          "data": {
            "text/plain": [
              "LogisticRegression(C=1.0, class_weight='balanced', dual=False,\n",
              "          fit_intercept=True, intercept_scaling=1, max_iter=100,\n",
              "          multi_class='warn', n_jobs=None, penalty='l2', random_state=None,\n",
              "          solver='warn', tol=0.0001, verbose=0, warm_start=False)"
            ]
          },
          "metadata": {
            "tags": []
          },
          "execution_count": 62
        }
      ]
    },
    {
      "metadata": {
        "id": "L0fMOdcqZluG",
        "colab_type": "code",
        "outputId": "24a159bb-8894-46bd-b716-d5daea495603",
        "colab": {
          "base_uri": "https://localhost:8080/",
          "height": 176
        }
      },
      "cell_type": "code",
      "source": [
        "from sklearn.metrics import classification_report\n",
        "y_pred = model.predict(X_test)\n",
        "print(classification_report(y_test, y_pred))"
      ],
      "execution_count": 0,
      "outputs": [
        {
          "output_type": "stream",
          "text": [
            "              precision    recall  f1-score   support\n",
            "\n",
            "      female       0.90      0.86      0.88     11450\n",
            "        male       0.84      0.89      0.86      9416\n",
            "\n",
            "   micro avg       0.87      0.87      0.87     20866\n",
            "   macro avg       0.87      0.87      0.87     20866\n",
            "weighted avg       0.87      0.87      0.87     20866\n",
            "\n"
          ],
          "name": "stdout"
        }
      ]
    },
    {
      "metadata": {
        "id": "gCm8H0nrZly9",
        "colab_type": "code",
        "outputId": "3c948cde-f888-48db-a14e-f29eb99bd02d",
        "colab": {
          "base_uri": "https://localhost:8080/",
          "height": 34
        }
      },
      "cell_type": "code",
      "source": [
        "from sklearn.metrics import accuracy_score\n",
        "print (accuracy_score(y_test, y_pred))"
      ],
      "execution_count": 0,
      "outputs": [
        {
          "output_type": "stream",
          "text": [
            "0.8712259177609508\n"
          ],
          "name": "stdout"
        }
      ]
    },
    {
      "metadata": {
        "id": "p3m6kNDMZ1c8",
        "colab_type": "code",
        "colab": {}
      },
      "cell_type": "code",
      "source": [
        ""
      ],
      "execution_count": 0,
      "outputs": []
    }
  ]
}