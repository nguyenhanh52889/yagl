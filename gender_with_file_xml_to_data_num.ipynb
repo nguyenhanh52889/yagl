{
  "nbformat": 4,
  "nbformat_minor": 0,
  "metadata": {
    "colab": {
      "name": "Copy of gender_with_file_xml.ipynb",
      "version": "0.3.2",
      "provenance": [],
      "collapsed_sections": [
        "e-yKIABXjBR-"
      ]
    },
    "kernelspec": {
      "name": "python3",
      "display_name": "Python 3"
    },
    "accelerator": "GPU"
  },
  "cells": [
    {
      "metadata": {
        "id": "eHX-PI4ZHHak",
        "colab_type": "code",
        "outputId": "bba1cf27-93ff-4638-ecdd-5a32f53d3830",
        "colab": {
          "base_uri": "https://localhost:8080/",
          "height": 122
        }
      },
      "cell_type": "code",
      "source": [
        "from google.colab import drive\n",
        "drive.mount('/content/drive')"
      ],
      "execution_count": 0,
      "outputs": [
        {
          "output_type": "stream",
          "text": [
            "Go to this URL in a browser: https://accounts.google.com/o/oauth2/auth?client_id=947318989803-6bn6qk8qdgf4n4g3pfee6491hc0brc4i.apps.googleusercontent.com&redirect_uri=urn%3Aietf%3Awg%3Aoauth%3A2.0%3Aoob&scope=email%20https%3A%2F%2Fwww.googleapis.com%2Fauth%2Fdocs.test%20https%3A%2F%2Fwww.googleapis.com%2Fauth%2Fdrive%20https%3A%2F%2Fwww.googleapis.com%2Fauth%2Fdrive.photos.readonly%20https%3A%2F%2Fwww.googleapis.com%2Fauth%2Fpeopleapi.readonly&response_type=code\n",
            "\n",
            "Enter your authorization code:\n",
            "··········\n",
            "Mounted at /content/drive\n"
          ],
          "name": "stdout"
        }
      ]
    },
    {
      "metadata": {
        "id": "6bu19JjjHHeR",
        "colab_type": "code",
        "outputId": "1a0ad708-14d2-4242-cc48-6ae7ec9bc73a",
        "colab": {
          "base_uri": "https://localhost:8080/",
          "height": 34
        }
      },
      "cell_type": "code",
      "source": [
        "%cd drive/My Drive/project"
      ],
      "execution_count": 0,
      "outputs": [
        {
          "output_type": "stream",
          "text": [
            "/content/drive/My Drive/project\n"
          ],
          "name": "stdout"
        }
      ]
    },
    {
      "metadata": {
        "id": "_ZvukMx_HHj7",
        "colab_type": "code",
        "outputId": "1f34be17-a341-4457-ae7e-ee9ed1a77aa8",
        "colab": {
          "base_uri": "https://localhost:8080/",
          "height": 153
        }
      },
      "cell_type": "code",
      "source": [
        "!ls "
      ],
      "execution_count": 0,
      "outputs": [
        {
          "output_type": "stream",
          "text": [
            "'Copy of gender_with_file_xml.ipynb'   split_xml.pl\n",
            " data\t\t\t\t       tnt.rar\n",
            " data_test.csv\t\t\t       tnt.xml\n",
            " finalized_model.sav\t\t       Untitled0.ipynb\n",
            " gender.ipynb\t\t\t       Untitled1.ipynb\n",
            " gender_with_file_xml.ipynb\t       Untitled2.ipynb\n",
            " parser.ipynb\t\t\t       vk_part_k0.xml\n",
            " script_xml.pl\n"
          ],
          "name": "stdout"
        }
      ]
    },
    {
      "metadata": {
        "id": "qpnwU3blHHo7",
        "colab_type": "code",
        "colab": {}
      },
      "cell_type": "code",
      "source": [
        "from lxml import etree\n",
        "import numpy as np\n",
        "import pandas as pd\n",
        "import re"
      ],
      "execution_count": 0,
      "outputs": []
    },
    {
      "metadata": {
        "id": "-acIQSa3H8Ti",
        "colab_type": "code",
        "colab": {}
      },
      "cell_type": "code",
      "source": [
        "#Находит значение атрибута\n",
        "def parse_attributes(attribute, line):\n",
        "    result = re.search(r'{}=.(\\w+).'.format(attribute), line)\n",
        "    if result:\n",
        "        return result.group(1)\n",
        "    #Если информации нет, возвращает строку 'NA'\n",
        "    return 'NA'\n",
        "\n",
        "#Применяет ругулярку к строке\n",
        "def parse_text(reg, line):\n",
        "    result = re.search(reg, line)\n",
        "    if result:\n",
        "        return result.group(1)\n",
        "    #<o composite=\"true\"> не обробатывается (я не знаю что это) и еще что то непонятное\n",
        "    #МОЖЕТ ВЕРНУТЬ ПУСТУЮ СТРОКУ\n",
        "    return \"\"\n",
        "        \n",
        "def parse_article(file):\n",
        "    df = pd.DataFrame()\n",
        "    \n",
        "    attributes_list = [\"source\", \"genrei\", \"gender\", \"birth\", \"nickname\",\n",
        "                      \"id\", \"loc\", \"month\", \"rule\", \"year\"]\n",
        "    \n",
        "    attributes_dict = {}\n",
        "    for attr in attributes_list:\n",
        "        attributes_dict[attr] = []\n",
        "    attributes_dict[\"text\"] = []\n",
        "    attributes_dict[\"words\"] = []\n",
        "    attributes_dict[\"infinitives\"] = []\n",
        "    attributes_dict[\"specification\"] = []\n",
        "    \n",
        "    text = \"\"\n",
        "    words = []\n",
        "    infinitives = []\n",
        "    specification = []\n",
        "    \n",
        "    for line in file:\n",
        "        if line.startswith('</text>'):\n",
        "            \n",
        "            attributes_dict[\"text\"].append(text)\n",
        "            attributes_dict[\"words\"].append(words)\n",
        "            attributes_dict[\"infinitives\"].append(infinitives)\n",
        "            attributes_dict[\"specification\"].append(specification)\n",
        "            \n",
        "            words = []\n",
        "            specification = []\n",
        "            infinitives = []\n",
        "            text = \"\"\n",
        "            \n",
        "        elif line.startswith('<text'):\n",
        "            \n",
        "            for attr in attributes_list:\n",
        "                if attr == \"loc\":\n",
        "                    attributes_dict[attr].append(re.findall(r'loc=.(\\w+).', line))\n",
        "                else:\n",
        "                    attributes_dict[attr].append(parse_attributes(attr, line))\n",
        "        else:\n",
        "            \n",
        "            words.append(parse_text(r'(\\S+)\\s+\\S+\\s+\\S+', line))\n",
        "            infinitives.append(parse_text(r'\\S+\\s+\\S+\\s+(\\S+)', line))\n",
        "            specification.append(parse_text(r'\\S+\\s+(\\S+)\\s+\\S+', line))\n",
        "            text += line + \"\\n\"\n",
        "            \n",
        "    df = df.from_dict(attributes_dict)\n",
        "    return df"
      ],
      "execution_count": 0,
      "outputs": []
    },
    {
      "metadata": {
        "id": "Dai3-FsIZcJP",
        "colab_type": "code",
        "colab": {}
      },
      "cell_type": "code",
      "source": [
        "def parse_file(file):\n",
        "    with open(file) as file:\n",
        "        return parse_article(file)"
      ],
      "execution_count": 0,
      "outputs": []
    },
    {
      "metadata": {
        "id": "6bVaKFLUoFIe",
        "colab_type": "code",
        "colab": {}
      },
      "cell_type": "code",
      "source": [
        "def find_F_M(form):\n",
        "  if form == \"\": \n",
        "    return '', ''\n",
        "  if (form[0] == 'N' or form[0] == 'M' or form[0] == 'Y') and len(form) > 2 :\n",
        "    return form[0], form[2]\n",
        "  if form [0] == 'V' and len(form) > 6:\n",
        "    return form[0], form[6]\n",
        "  if (form[0] == 'A' or form[0] == 'P') and len(form) > 3:\n",
        "    return form[0], form[3] \n",
        "  else:\n",
        "    return '', ''"
      ],
      "execution_count": 0,
      "outputs": []
    },
    {
      "metadata": {
        "id": "1A5hZkUnjAX6",
        "colab_type": "code",
        "colab": {}
      },
      "cell_type": "code",
      "source": [
        "import json\n",
        "keyword_F = {}\n",
        "keyword_M = {}\n",
        "with open('./data/data_json/keyword.json', 'r') as f:\n",
        "    dict_vk = json.load(f)\n",
        "    keyword_F = dict_vk[\"keyword_F\"]\n",
        "    keyword_M = dict_vk[\"keyword_M\"]"
      ],
      "execution_count": 0,
      "outputs": []
    },
    {
      "metadata": {
        "id": "Y3U5KQj_oJLf",
        "colab_type": "code",
        "colab": {}
      },
      "cell_type": "code",
      "source": [
        "def has_i(form):\n",
        "  if len(form) < 5:\n",
        "    return False\n",
        "  if form[0] == 'P' and form[2] == '1' and form[4] == 's' and form[5] == 'n':\n",
        "    return True\n",
        "  else:\n",
        "    return False"
      ],
      "execution_count": 0,
      "outputs": []
    },
    {
      "metadata": {
        "id": "k5NvIRm9aa7h",
        "colab_type": "code",
        "colab": {}
      },
      "cell_type": "code",
      "source": [
        "def to_num(dt):\n",
        "  X_oh = pd.DataFrame(columns=['keyness_F', 'keyness_M', 'N_F', 'N_M', 'V_F', 'V_M', 'A_F', 'A_M', 'P_F', 'P_M', 'M_F', 'M_M', 'Y_F', 'Y_M', 'YA'])\n",
        "  X1 = dt['infinitives']\n",
        "  X2 = dt['specification']\n",
        "\n",
        "  for sentence, forms in zip(X1, X2):\n",
        "    F = 0.\n",
        "    M = 0.\n",
        "\n",
        "    N_F = 0.\n",
        "    N_M = 0.\n",
        "\n",
        "    V_F = 0.\n",
        "    V_M = 0.\n",
        "\n",
        "    A_F = 0.\n",
        "    A_M = 0.\n",
        "\n",
        "    P_F = 0.\n",
        "    P_M = 0.\n",
        "\n",
        "    M_F = 0.\n",
        "    M_M = 0.\n",
        "\n",
        "    Y_F = 0.\n",
        "    Y_M = 0.\n",
        "\n",
        "    has = 0.\n",
        "    for word, form in zip(sentence, forms):\n",
        "      if word == 'я' and has_i(form):\n",
        "        has = 1.\n",
        "      if keyword_F.get(word) != None:\n",
        "        a = keyword_F[word]\n",
        "      else:\n",
        "        a = 0.\n",
        "      F = F + a\n",
        "      if keyword_M.get(word) != None:\n",
        "        b = keyword_M[word]\n",
        "      else:\n",
        "        b = 0.\n",
        "      M = M + b\n",
        "\n",
        "      (first, gender) = find_F_M(form)\n",
        "\n",
        "      if first == 'N':\n",
        "        if gender == 'm':\n",
        "          N_M += 1.\n",
        "        if gender == 'f':\n",
        "          N_F += 1.\n",
        "\n",
        "      if first == 'V':\n",
        "        add = 1.\n",
        "        if form[4] == '1':\n",
        "          add = 1000.\n",
        "        if gender == 'm':\n",
        "          V_M += add\n",
        "        if gender == 'f':\n",
        "          V_F += add\n",
        "\n",
        "      if first == 'A':\n",
        "        if gender == 'm':\n",
        "          A_M += 1.\n",
        "        if gender == 'f':\n",
        "          A_F += 1.\n",
        "\n",
        "\n",
        "      if first == 'P':\n",
        "        if gender == 'm':\n",
        "          P_M += 1.\n",
        "        if gender == 'f':\n",
        "          P_F += 1.\n",
        "\n",
        "      if first == 'M':\n",
        "        if gender == 'm':\n",
        "          M_M += 1.\n",
        "        if gender == 'f':\n",
        "          M_F += 1.\n",
        "\n",
        "      if first == 'Y':\n",
        "        if gender == 'm':\n",
        "          Y_M += 1.\n",
        "        if gender == 'f':\n",
        "          Y_F += 1.\n",
        "    X_oh = X_oh.append({'keyness_F': F, 'keyness_M': M, 'N_F': N_F, 'N_M':N_M, 'V_F':V_F, 'V_M':V_M, 'A_F':A_F, 'A_M':A_M, 'P_F':P_F, 'P_M':P_M, 'M_F':M_F, 'M_M':M_M, 'Y_F':Y_F, 'Y_M':Y_M, 'YA':has}, ignore_index=True)\n",
        "  return X_oh"
      ],
      "execution_count": 0,
      "outputs": []
    },
    {
      "metadata": {
        "id": "aW7CHJ77d1UE",
        "colab_type": "code",
        "colab": {}
      },
      "cell_type": "code",
      "source": [
        "def keyword(keyness, c):\n",
        "  kw = {}\n",
        "  for key in keyness.keys():\n",
        "    if keyness[key] > c:\n",
        "      kw.update({key: keyness[key]})\n",
        "  return kw\n",
        "\n",
        "keyword_F_new = keyword(keyword_F, 1.02)\n",
        "keyword_M_new = keyword(keyword_M, 1.02)\n",
        "\n",
        "pos = 0\n",
        "keywords = {}\n",
        "for key in keyword_F_new.keys():\n",
        "  key = key.strip('\"({[]})[&?<>/\\:;,*^!@#+-=._%$0123457689')\n",
        "  if keywords.get(key) == None and key[:4] != \"http\":\n",
        "    keywords.update({key : pos})\n",
        "    pos = pos + 1\n",
        "    \n",
        "for key in keyword_M_new.keys():\n",
        "  key = key.strip('\"({[]})[&?<>/\\:;,*^!@#+-=._%$0123457689')\n",
        "  if keywords.get(key) == None and key[:4] != \"http\":\n",
        "    keywords.update({key : pos})\n",
        "    pos = pos + 1\n",
        "kw = [*keywords]\n",
        "\n",
        "def by_keywords(data):\n",
        "  X_by_kw = np.array([0] * (data.shape[0]*len(kw))).reshape(data.shape[0], len(kw))\n",
        "  X = data['infinitives']\n",
        "  n = 0\n",
        "  for sentence in X:\n",
        "    for word in sentence:\n",
        "      if keywords.get(word) != None:\n",
        "        X_by_kw[n][keywords[word]] += 1\n",
        "    n += 1\n",
        "  return X_by_kw"
      ],
      "execution_count": 0,
      "outputs": []
    },
    {
      "metadata": {
        "id": "Ern8xmF6mJVy",
        "colab_type": "code",
        "colab": {}
      },
      "cell_type": "code",
      "source": [
        "def gender_to_num(y):\n",
        "  x = []\n",
        "  for yi in y:\n",
        "    if yi == \"F\":\n",
        "      x.append(0)\n",
        "    else:\n",
        "      x.append(1)\n",
        "  return x"
      ],
      "execution_count": 0,
      "outputs": []
    },
    {
      "metadata": {
        "id": "K-K18GvC2Tp6",
        "colab_type": "code",
        "outputId": "87c8e116-caa6-4dfa-b5f7-619241950670",
        "colab": {
          "base_uri": "https://localhost:8080/",
          "height": 306
        }
      },
      "cell_type": "code",
      "source": [
        "for k in range(1, 48):\n",
        "  print(k)\n",
        "  file_in = './data/data_xml/vk_part_k{}.xml'.format(k)\n",
        "  file_out = './data/data_num/vk_part_k{}'.format(k)\n",
        "  data = parse_file(file_in)\n",
        "  column = ['gender', 'infinitives', 'specification']\n",
        "  data = data[column]\n",
        "  data_F = data[data.gender == \"F\"]\n",
        "  data_M = data[data.gender == \"M\"]\n",
        "  sh = list(range(data_F.shape[0]))\n",
        "  np.random.shuffle(sh)\n",
        "  index = sh[:data_M.shape[0]]\n",
        "  data_F = data_F.iloc[index]\n",
        "  dt = data_F.append(data_M, ignore_index=True)\n",
        "  X_by_kw = by_keywords(dt)\n",
        "  X_oh = to_num(dt)\n",
        "  y = dt['gender']\n",
        "  y = np.array(gender_to_num(y))\n",
        "  X_new = np.hstack((X_by_kw, X_oh))\n",
        "  X_new = np.vstack((X_new.transpose(), y)).transpose()\n",
        "\n",
        "  np.save(file_out, X_new)\n",
        "  del data, dt, data_F, data_M, X_oh, X_new, X_by_kw"
      ],
      "execution_count": 0,
      "outputs": [
        {
          "output_type": "stream",
          "text": [
            "31\n",
            "32\n",
            "33\n",
            "34\n",
            "35\n",
            "36\n",
            "37\n",
            "38\n",
            "39\n",
            "40\n",
            "41\n",
            "42\n",
            "43\n",
            "44\n",
            "45\n",
            "46\n",
            "47\n"
          ],
          "name": "stdout"
        }
      ]
    },
    {
      "metadata": {
        "id": "f6KtbT6OuGjh",
        "colab_type": "code",
        "colab": {}
      },
      "cell_type": "code",
      "source": [
        ""
      ],
      "execution_count": 0,
      "outputs": []
    }
  ]
}