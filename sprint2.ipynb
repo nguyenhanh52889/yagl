{
  "nbformat": 4,
  "nbformat_minor": 0,
  "metadata": {
    "colab": {
      "name": "Untitled2.ipynb",
      "version": "0.3.2",
      "provenance": []
    },
    "kernelspec": {
      "name": "python3",
      "display_name": "Python 3"
    }
  },
  "cells": [
    {
      "metadata": {
        "id": "Ic8s2t4skkQD",
        "colab_type": "code",
        "outputId": "e501e3bd-f53c-4cf0-ba2f-8e8c1c33d391",
        "colab": {
          "base_uri": "https://localhost:8080/",
          "height": 34
        }
      },
      "cell_type": "code",
      "source": [
        "from google.colab import drive\n",
        "drive.mount('/content/drive')"
      ],
      "execution_count": 0,
      "outputs": [
        {
          "output_type": "stream",
          "text": [
            "Drive already mounted at /content/drive; to attempt to forcibly remount, call drive.mount(\"/content/drive\", force_remount=True).\n"
          ],
          "name": "stdout"
        }
      ]
    },
    {
      "metadata": {
        "id": "F4-jKrEskqZm",
        "colab_type": "code",
        "outputId": "13b10f64-f931-40c6-81ce-ffc9ef405341",
        "colab": {
          "base_uri": "https://localhost:8080/",
          "height": 34
        }
      },
      "cell_type": "code",
      "source": [
        "%cd drive/My Drive/project"
      ],
      "execution_count": 0,
      "outputs": [
        {
          "output_type": "stream",
          "text": [
            "/content/drive/My Drive/project\n"
          ],
          "name": "stdout"
        }
      ]
    },
    {
      "metadata": {
        "id": "MoJvxUzXfsRY",
        "colab_type": "code",
        "colab": {}
      },
      "cell_type": "code",
      "source": [
        "import numpy as np\n",
        "import pickle"
      ],
      "execution_count": 0,
      "outputs": []
    },
    {
      "metadata": {
        "id": "XpPEjaWFkv4k",
        "colab_type": "code",
        "colab": {}
      },
      "cell_type": "code",
      "source": [
        "from lxml import etree\n",
        "import numpy as np\n",
        "import pandas as pd\n",
        "import re"
      ],
      "execution_count": 0,
      "outputs": []
    },
    {
      "metadata": {
        "id": "E1WASc-AlLkj",
        "colab_type": "code",
        "outputId": "bcf66750-867a-4de1-f4ec-23982f59191e",
        "colab": {
          "base_uri": "https://localhost:8080/",
          "height": 476
        }
      },
      "cell_type": "code",
      "source": [
        "!pip3 install dask_ml "
      ],
      "execution_count": 0,
      "outputs": [
        {
          "output_type": "stream",
          "text": [
            "Requirement already satisfied: dask_ml in /usr/local/lib/python3.6/dist-packages (0.12.0)\n",
            "Requirement already satisfied: dask-glm in /usr/local/lib/python3.6/dist-packages (from dask_ml) (0.2.0)\n",
            "Requirement already satisfied: pandas>=0.23.4 in /usr/local/lib/python3.6/dist-packages (from dask_ml) (0.24.2)\n",
            "Requirement already satisfied: numba in /usr/local/lib/python3.6/dist-packages (from dask_ml) (0.40.1)\n",
            "Requirement already satisfied: scikit-learn>=0.20 in /usr/local/lib/python3.6/dist-packages (from dask_ml) (0.20.3)\n",
            "Requirement already satisfied: scipy in /usr/local/lib/python3.6/dist-packages (from dask_ml) (1.1.0)\n",
            "Requirement already satisfied: numpy in /usr/local/lib/python3.6/dist-packages (from dask_ml) (1.14.6)\n",
            "Requirement already satisfied: multipledispatch>=0.4.9 in /usr/local/lib/python3.6/dist-packages (from dask_ml) (0.6.0)\n",
            "Requirement already satisfied: six in /usr/local/lib/python3.6/dist-packages (from dask_ml) (1.11.0)\n",
            "Requirement already satisfied: packaging in /usr/local/lib/python3.6/dist-packages (from dask_ml) (19.0)\n",
            "Requirement already satisfied: dask[array]>=1.0.0 in /usr/local/lib/python3.6/dist-packages (from dask_ml) (1.1.5)\n",
            "Requirement already satisfied: distributed>=1.25.0 in /usr/local/lib/python3.6/dist-packages (from dask_ml) (1.25.3)\n",
            "Requirement already satisfied: cloudpickle>=0.2.2 in /usr/local/lib/python3.6/dist-packages (from dask-glm->dask_ml) (0.6.1)\n",
            "Requirement already satisfied: python-dateutil>=2.5.0 in /usr/local/lib/python3.6/dist-packages (from pandas>=0.23.4->dask_ml) (2.5.3)\n",
            "Requirement already satisfied: pytz>=2011k in /usr/local/lib/python3.6/dist-packages (from pandas>=0.23.4->dask_ml) (2018.9)\n",
            "Requirement already satisfied: llvmlite>=0.25.0dev0 in /usr/local/lib/python3.6/dist-packages (from numba->dask_ml) (0.28.0)\n",
            "Requirement already satisfied: pyparsing>=2.0.2 in /usr/local/lib/python3.6/dist-packages (from packaging->dask_ml) (2.3.1)\n",
            "Requirement already satisfied: toolz>=0.7.3; extra == \"array\" in /usr/local/lib/python3.6/dist-packages (from dask[array]>=1.0.0->dask_ml) (0.9.0)\n",
            "Requirement already satisfied: tornado>=4.5.1 in /usr/local/lib/python3.6/dist-packages (from distributed>=1.25.0->dask_ml) (4.5.3)\n",
            "Requirement already satisfied: zict>=0.1.3 in /usr/local/lib/python3.6/dist-packages (from distributed>=1.25.0->dask_ml) (0.1.4)\n",
            "Requirement already satisfied: sortedcontainers!=2.0.0,!=2.0.1 in /usr/local/lib/python3.6/dist-packages (from distributed>=1.25.0->dask_ml) (2.1.0)\n",
            "Requirement already satisfied: click>=6.6 in /usr/local/lib/python3.6/dist-packages (from distributed>=1.25.0->dask_ml) (7.0)\n",
            "Requirement already satisfied: pyyaml in /usr/local/lib/python3.6/dist-packages (from distributed>=1.25.0->dask_ml) (3.13)\n",
            "Requirement already satisfied: msgpack in /usr/local/lib/python3.6/dist-packages (from distributed>=1.25.0->dask_ml) (0.5.6)\n",
            "Requirement already satisfied: tblib in /usr/local/lib/python3.6/dist-packages (from distributed>=1.25.0->dask_ml) (1.3.2)\n",
            "Requirement already satisfied: psutil>=5.0 in /usr/local/lib/python3.6/dist-packages (from distributed>=1.25.0->dask_ml) (5.4.8)\n",
            "Requirement already satisfied: heapdict in /usr/local/lib/python3.6/dist-packages (from zict>=0.1.3->distributed>=1.25.0->dask_ml) (1.0.0)\n"
          ],
          "name": "stdout"
        }
      ]
    },
    {
      "metadata": {
        "id": "xaw0IRR6lx8F",
        "colab_type": "code",
        "colab": {}
      },
      "cell_type": "code",
      "source": [
        "from dask_ml.wrappers import Incremental"
      ],
      "execution_count": 0,
      "outputs": []
    },
    {
      "metadata": {
        "id": "TAG6ooE1k8ET",
        "colab_type": "code",
        "colab": {}
      },
      "cell_type": "code",
      "source": [
        "from sklearn.preprocessing import PolynomialFeatures\n",
        "from sklearn.linear_model import LogisticRegression\n",
        "from sklearn.model_selection import train_test_split\n",
        "from sklearn.linear_model import SGDClassifier\n",
        "model = SGDClassifier(loss='log', penalty='l2', tol=1e-3)\n",
        "inc = Incremental(model, scoring='accuracy')"
      ],
      "execution_count": 0,
      "outputs": []
    },
    {
      "metadata": {
        "id": "QGTYNetmlGrz",
        "colab_type": "code",
        "outputId": "fee1f613-b8df-4ab4-d01f-83333d253e66",
        "colab": {
          "base_uri": "https://localhost:8080/",
          "height": 1615
        }
      },
      "cell_type": "code",
      "source": [
        "import dask\n",
        "import dask.array as da\n",
        "for k in range(1,48):\n",
        "  file_in = './data/data_npy/vk_part_k{}.npy'.format(k)\n",
        "  train = np.load(open(file_in, \"rb\"))\n",
        "  X =train[:, :-1]\n",
        "  y = train[:,-1]\n",
        "  classes = da.unique(y).compute()\n",
        "  print(classes)\n",
        "  (X_train, X_test, y_train, y_test) = train_test_split(X, y, test_size=0.1, \n",
        "                                     random_state=0)\n",
        "  \n",
        "  inc.fit(X_train, y_train, classes=classes)\n",
        "  print('Score:', inc.score(X_test, y_test))\n",
        "  del X, y, X_train, X_test, y_train, y_test"
      ],
      "execution_count": 0,
      "outputs": [
        {
          "output_type": "stream",
          "text": [
            "[0. 1.]\n",
            "Score: 0.7166798889329631\n",
            "[0. 1.]\n",
            "Score: 0.705180471313513\n",
            "[0. 1.]\n",
            "Score: 0.697151954714311\n",
            "[0. 1.]\n",
            "Score: 0.5463155046450798\n",
            "[0. 1.]\n",
            "Score: 0.7127689040716462\n",
            "[0. 1.]\n",
            "Score: 0.6857570964788147\n",
            "[0. 1.]\n",
            "Score: 0.7235866161199934\n",
            "[0. 1.]\n",
            "Score: 0.595392182241781\n",
            "[0. 1.]\n",
            "Score: 0.6981183037723958\n",
            "[0. 1.]\n",
            "Score: 0.5687029738445002\n",
            "[0. 1.]\n",
            "Score: 0.6700173310225304\n",
            "[0. 1.]\n",
            "Score: 0.6994214876033058\n",
            "[0. 1.]\n",
            "Score: 0.6685920577617328\n",
            "[0. 1.]\n",
            "Score: 0.5627345844504021\n",
            "[0. 1.]\n",
            "Score: 0.6130394857667585\n",
            "[0. 1.]\n",
            "Score: 0.6862465460379713\n",
            "[0. 1.]\n",
            "Score: 0.7110266159695817\n",
            "[0. 1.]\n",
            "Score: 0.6012795098215895\n",
            "[0. 1.]\n",
            "Score: 0.6443777292576419\n",
            "[0. 1.]\n",
            "Score: 0.7237033006891549\n",
            "[0. 1.]\n",
            "Score: 0.6614008692744902\n",
            "[0. 1.]\n",
            "Score: 0.6317298217325091\n",
            "[0. 1.]\n",
            "Score: 0.695613949399238\n",
            "[0. 1.]\n",
            "Score: 0.677597608479029\n",
            "[0. 1.]\n",
            "Score: 0.7149024024024024\n",
            "[0. 1.]\n",
            "Score: 0.7191323692992213\n",
            "[0. 1.]\n",
            "Score: 0.5498762611840853\n",
            "[0. 1.]\n",
            "Score: 0.711200963523744\n",
            "[0. 1.]\n",
            "Score: 0.7124047775792345\n",
            "[0. 1.]\n",
            "Score: 0.688061848256023\n",
            "[0. 1.]\n",
            "Score: 0.7116758614452383\n",
            "[0. 1.]\n",
            "Score: 0.6536643026004728\n",
            "[0. 1.]\n",
            "Score: 0.6299323097242859\n",
            "[0. 1.]\n",
            "Score: 0.7124278780108069\n",
            "[0. 1.]\n",
            "Score: 0.7104413347685683\n",
            "[0. 1.]\n",
            "Score: 0.7052923793319602\n",
            "[0. 1.]\n",
            "Score: 0.722817165637458\n",
            "[0. 1.]\n",
            "Score: 0.5078288620724045\n",
            "[0. 1.]\n",
            "Score: 0.5058931018730014\n",
            "[0. 1.]\n",
            "Score: 0.6632377908718666\n",
            "[0. 1.]\n",
            "Score: 0.7503517411185368\n",
            "[0. 1.]\n",
            "Score: 0.7343571311877144\n",
            "[0. 1.]\n",
            "Score: 0.5039815961776677\n",
            "[0. 1.]\n",
            "Score: 0.7038494768167418\n",
            "[0. 1.]\n",
            "Score: 0.7113309352517986\n",
            "[0. 1.]\n",
            "Score: 0.6956858692844227\n",
            "[0. 1.]\n",
            "Score: 0.7203887055372203\n"
          ],
          "name": "stdout"
        }
      ]
    },
    {
      "metadata": {
        "id": "9SnoDtd65aMf",
        "colab_type": "code",
        "colab": {}
      },
      "cell_type": "code",
      "source": [
        ""
      ],
      "execution_count": 0,
      "outputs": []
    }
  ]
}