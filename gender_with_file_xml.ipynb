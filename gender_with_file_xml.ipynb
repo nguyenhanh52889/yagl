{
  "nbformat": 4,
  "nbformat_minor": 0,
  "metadata": {
    "colab": {
      "name": "gender_with_file_xml.ipynb",
      "version": "0.3.2",
      "provenance": [],
      "collapsed_sections": []
    },
    "kernelspec": {
      "name": "python3",
      "display_name": "Python 3"
    }
  },
  "cells": [
    {
      "metadata": {
        "id": "FvW3exL2G-c_",
        "colab_type": "code",
        "outputId": "755eb110-4ef5-44ac-adbc-fa91739c3004",
        "colab": {
          "base_uri": "https://localhost:8080/",
          "height": 141
        }
      },
      "cell_type": "code",
      "source": [
        "!apt-get update -qq 2>&1 > /dev/null\n",
        "!apt-get install -y -qq software-properties-common python-software-properties module-init-tools\n",
        "!add-apt-repository -y ppa:alessandro-strada/ppa 2>&1 > /dev/null\n",
        "!apt-get update -qq 2>&1 > /dev/null\n",
        "!apt-get -y install -qq google-drive-ocamlfuse fuse"
      ],
      "execution_count": 0,
      "outputs": [
        {
          "output_type": "stream",
          "text": [
            "E: Package 'python-software-properties' has no installation candidate\n",
            "Selecting previously unselected package google-drive-ocamlfuse.\n",
            "(Reading database ... 131323 files and directories currently installed.)\n",
            "Preparing to unpack .../google-drive-ocamlfuse_0.7.1-0ubuntu3~ubuntu18.04.1_amd64.deb ...\n",
            "Unpacking google-drive-ocamlfuse (0.7.1-0ubuntu3~ubuntu18.04.1) ...\n",
            "Setting up google-drive-ocamlfuse (0.7.1-0ubuntu3~ubuntu18.04.1) ...\n",
            "Processing triggers for man-db (2.8.3-2ubuntu0.1) ...\n"
          ],
          "name": "stdout"
        }
      ]
    },
    {
      "metadata": {
        "id": "eHX-PI4ZHHak",
        "colab_type": "code",
        "outputId": "26e1e460-62d9-4df1-bff0-c03662410665",
        "colab": {
          "base_uri": "https://localhost:8080/",
          "height": 125
        }
      },
      "cell_type": "code",
      "source": [
        "from google.colab import drive\n",
        "drive.mount('/content/drive')"
      ],
      "execution_count": 1,
      "outputs": [
        {
          "output_type": "stream",
          "text": [
            "Go to this URL in a browser: https://accounts.google.com/o/oauth2/auth?client_id=947318989803-6bn6qk8qdgf4n4g3pfee6491hc0brc4i.apps.googleusercontent.com&redirect_uri=urn%3Aietf%3Awg%3Aoauth%3A2.0%3Aoob&scope=email%20https%3A%2F%2Fwww.googleapis.com%2Fauth%2Fdocs.test%20https%3A%2F%2Fwww.googleapis.com%2Fauth%2Fdrive%20https%3A%2F%2Fwww.googleapis.com%2Fauth%2Fdrive.photos.readonly%20https%3A%2F%2Fwww.googleapis.com%2Fauth%2Fpeopleapi.readonly&response_type=code\n",
            "\n",
            "Enter your authorization code:\n",
            "··········\n",
            "Mounted at /content/drive\n"
          ],
          "name": "stdout"
        }
      ]
    },
    {
      "metadata": {
        "id": "6bu19JjjHHeR",
        "colab_type": "code",
        "outputId": "ce5587a9-a8a5-416e-aba0-2a55c87f8d8c",
        "colab": {
          "base_uri": "https://localhost:8080/",
          "height": 34
        }
      },
      "cell_type": "code",
      "source": [
        "%cd drive/My Drive/Project ABBYY/gicrapi"
      ],
      "execution_count": 2,
      "outputs": [
        {
          "output_type": "stream",
          "text": [
            "/content/drive/My Drive/Project ABBYY/gicrapi\n"
          ],
          "name": "stdout"
        }
      ]
    },
    {
      "metadata": {
        "id": "_ZvukMx_HHj7",
        "colab_type": "code",
        "outputId": "7cb329bb-8e67-4852-ca99-4f5b1fa1b0da",
        "colab": {
          "base_uri": "https://localhost:8080/",
          "height": 87
        }
      },
      "cell_type": "code",
      "source": [
        "!ls"
      ],
      "execution_count": 3,
      "outputs": [
        {
          "output_type": "stream",
          "text": [
            "2.ipynb\t\t      demo1.sh\t\t\t  parser.ipynb\n",
            "data.csv\t      gender.ipynb\t\t  text_classification.ipynb\n",
            "data_normal_form.csv  gender_with_file_xml.ipynb  Untitled0.ipynb\n",
            "demo1.py\t      gicr\t\t\t  vk_part.tnt.xml\n"
          ],
          "name": "stdout"
        }
      ]
    },
    {
      "metadata": {
        "id": "qpnwU3blHHo7",
        "colab_type": "code",
        "colab": {}
      },
      "cell_type": "code",
      "source": [
        "from lxml import etree\n",
        "import numpy as np\n",
        "import pandas as pd\n",
        "import re"
      ],
      "execution_count": 0,
      "outputs": []
    },
    {
      "metadata": {
        "id": "iRBxo5T_Hh7l",
        "colab_type": "code",
        "colab": {}
      },
      "cell_type": "code",
      "source": [
        "#Находит значение атрибута\n",
        "def parse_attributes(attribute, line):\n",
        "    result = re.search(r'{}=.(\\w+).'.format(attribute), line)\n",
        "    if result:\n",
        "        return result.group(1)\n",
        "    #Если информации нет, возвращает строку 'NA'\n",
        "    return 'NA'\n",
        "\n",
        "#Применяет ругулярку к строке\n",
        "def parse_text(reg, line):\n",
        "    result = re.search(reg, line)\n",
        "    if result:\n",
        "        return result.group(1)\n",
        "    #<o composite=\"true\"> не обробатывается (я не знаю что это) и еще что то непонятное\n",
        "    #МОЖЕТ ВЕРНУТЬ ПУСТУЮ СТРОКУ\n",
        "    return \"\"\n",
        "        \n",
        "def parse_article(file):\n",
        "    df = pd.DataFrame()\n",
        "    \n",
        "    attributes_list = [\"source\", \"genrei\", \"gender\", \"birth\", \"nickname\",\n",
        "                      \"id\", \"loc\", \"month\", \"rule\", \"year\"]\n",
        "    \n",
        "    attributes_dict = {}\n",
        "    for attr in attributes_list:\n",
        "        attributes_dict[attr] = []\n",
        "    attributes_dict[\"text\"] = []\n",
        "    attributes_dict[\"words\"] = []\n",
        "    attributes_dict[\"infinitives\"] = []\n",
        "    attributes_dict[\"specification\"] = []\n",
        "    \n",
        "    text = \"\"\n",
        "    words = []\n",
        "    infinitives = []\n",
        "    specification = []\n",
        "    \n",
        "    for line in file:\n",
        "        if line.startswith('</text>'):\n",
        "            \n",
        "            attributes_dict[\"text\"].append(text)\n",
        "            attributes_dict[\"words\"].append(words)\n",
        "            attributes_dict[\"infinitives\"].append(infinitives)\n",
        "            attributes_dict[\"specification\"].append(specification)\n",
        "            \n",
        "            words = []\n",
        "            specification = []\n",
        "            infinitives = []\n",
        "            text = \"\"\n",
        "            \n",
        "        elif line.startswith('<text'):\n",
        "            \n",
        "            for attr in attributes_list:\n",
        "                if attr == \"loc\":\n",
        "                    attributes_dict[attr].append(re.findall(r'loc=.(\\w+).', line))\n",
        "                else:\n",
        "                    attributes_dict[attr].append(parse_attributes(attr, line))\n",
        "        else:\n",
        "            \n",
        "            words.append(parse_text(r'(\\S+)\\s+\\S+\\s+\\S+', line))\n",
        "            infinitives.append(parse_text(r'\\S+\\s+\\S+\\s+(\\S+)', line))\n",
        "            specification.append(parse_text(r'\\S+\\s+(\\S+)\\s+\\S+', line))\n",
        "            text += line + \"\\n\"\n",
        "            \n",
        "    df = df.from_dict(attributes_dict)\n",
        "    return df\n",
        "        "
      ],
      "execution_count": 0,
      "outputs": []
    },
    {
      "metadata": {
        "id": "dnO9W0EUHzoj",
        "colab_type": "code",
        "colab": {}
      },
      "cell_type": "code",
      "source": [
        "def parse_file():\n",
        "    path_to_xml = \"vk_part.tnt.xml\"\n",
        "    with open(path_to_xml) as file:\n",
        "        return parse_article(file)"
      ],
      "execution_count": 0,
      "outputs": []
    },
    {
      "metadata": {
        "id": "-acIQSa3H8Ti",
        "colab_type": "code",
        "colab": {}
      },
      "cell_type": "code",
      "source": [
        "df = parse_file()\n"
      ],
      "execution_count": 0,
      "outputs": []
    },
    {
      "metadata": {
        "id": "o5WdacDFIBVK",
        "colab_type": "code",
        "colab": {}
      },
      "cell_type": "code",
      "source": [
        "column = ['gender', 'infinitives', 'specification']\n",
        "data = df[column]"
      ],
      "execution_count": 0,
      "outputs": []
    },
    {
      "metadata": {
        "id": "RfLSX8JhTbLa",
        "colab_type": "code",
        "outputId": "e5f821bd-8502-43d9-e92d-4981a103f37b",
        "colab": {
          "base_uri": "https://localhost:8080/",
          "height": 34
        }
      },
      "cell_type": "code",
      "source": [
        "dt = data[data.gender != \"NA\"]\n",
        "dt.shape"
      ],
      "execution_count": 9,
      "outputs": [
        {
          "output_type": "execute_result",
          "data": {
            "text/plain": [
              "(2165, 3)"
            ]
          },
          "metadata": {
            "tags": []
          },
          "execution_count": 9
        }
      ]
    },
    {
      "metadata": {
        "id": "XWIzS14kIpSJ",
        "colab_type": "code",
        "colab": {}
      },
      "cell_type": "code",
      "source": [
        "data_F = data[data.gender == \"F\"]\n",
        "data_M = data[data.gender == \"M\"]"
      ],
      "execution_count": 0,
      "outputs": []
    },
    {
      "metadata": {
        "id": "2mQ9dGdvLOzD",
        "colab_type": "code",
        "colab": {}
      },
      "cell_type": "code",
      "source": [
        "sh = list(range(data_F.shape[0]))\n",
        "np.random.shuffle(sh)\n",
        "index = sh[:data_M.shape[0]]\n",
        "data_F = data_F.iloc[index]\n",
        "dt = data_M.append(data_F, ignore_index=True)\n"
      ],
      "execution_count": 0,
      "outputs": []
    },
    {
      "metadata": {
        "id": "deiySlX0M3fp",
        "colab_type": "code",
        "colab": {}
      },
      "cell_type": "code",
      "source": [
        "X_F = data_F['infinitives']\n",
        "X_M = data_M['infinitives']"
      ],
      "execution_count": 0,
      "outputs": []
    },
    {
      "metadata": {
        "id": "ACUOPRbWBqv_",
        "colab_type": "code",
        "colab": {}
      },
      "cell_type": "code",
      "source": [
        "def bag_words(data):\n",
        "  bag = {}\n",
        "  for sentence in data['infinitives']:\n",
        "    for word in sentence:\n",
        "      if word != \"\":\n",
        "        if bag.get(word) != None:\n",
        "            bag[word] = bag[word] + 1\n",
        "        else:\n",
        "            bag.update({word : 1})\n",
        "  return bag"
      ],
      "execution_count": 0,
      "outputs": []
    },
    {
      "metadata": {
        "id": "OYUNM3c9BvYH",
        "colab_type": "code",
        "colab": {}
      },
      "cell_type": "code",
      "source": [
        "bag_F = bag_words(data_F)\n",
        "bag_M = bag_words(data_M)"
      ],
      "execution_count": 0,
      "outputs": []
    },
    {
      "metadata": {
        "id": "M2U90F05Bvb-",
        "colab_type": "code",
        "colab": {}
      },
      "cell_type": "code",
      "source": [
        "from collections import Counter\n",
        "cbag = Counter(bag_F) + Counter(bag_M)\n",
        "bag = dict(cbag)"
      ],
      "execution_count": 0,
      "outputs": []
    },
    {
      "metadata": {
        "id": "KxQFysmsBvhH",
        "colab_type": "code",
        "colab": {}
      },
      "cell_type": "code",
      "source": [
        "def normal(bag):\n",
        "  count_word = sum(bag.values())\n",
        "  return {key : bag[key] / count_word for key in bag.keys()}"
      ],
      "execution_count": 0,
      "outputs": []
    },
    {
      "metadata": {
        "id": "fqBfoL4MB5Jm",
        "colab_type": "code",
        "colab": {}
      },
      "cell_type": "code",
      "source": [
        "def keyness(bag, n, dic_normal):\n",
        "  return {key : (bag[key] + n)/(dic_normal[key] + n) for key in bag.keys()}"
      ],
      "execution_count": 0,
      "outputs": []
    },
    {
      "metadata": {
        "id": "gzt7ftX5B9zl",
        "colab_type": "code",
        "colab": {}
      },
      "cell_type": "code",
      "source": [
        "n = 0.03\n",
        "dic_normal = normal(bag)\n",
        "bag_F_normal = normal(bag_F)\n",
        "bag_M_normal = normal(bag_M)\n",
        "\n",
        "\n",
        "keyness_F = keyness(bag_F_normal, n, dic_normal)\n",
        "keyness_M = keyness(bag_M_normal, n, dic_normal)"
      ],
      "execution_count": 0,
      "outputs": []
    },
    {
      "metadata": {
        "id": "H-9d401mCBlo",
        "colab_type": "code",
        "colab": {}
      },
      "cell_type": "code",
      "source": [
        "def keyword(keyness, c):\n",
        "  kw = {}\n",
        "  for key in keyness.keys():\n",
        "    if keyness[key] > c:\n",
        "      kw.update({key: keyness[key]})\n",
        "  return kw"
      ],
      "execution_count": 0,
      "outputs": []
    },
    {
      "metadata": {
        "id": "fv6ckZhaCBrt",
        "colab_type": "code",
        "colab": {}
      },
      "cell_type": "code",
      "source": [
        "c = 0.\n",
        "keyword_F = keyword(keyness_F, c)\n",
        "keyword_M = keyword(keyness_M, c)"
      ],
      "execution_count": 0,
      "outputs": []
    },
    {
      "metadata": {
        "id": "yFehYWTUReOa",
        "colab_type": "text"
      },
      "cell_type": "markdown",
      "source": [
        "#Used features"
      ]
    },
    {
      "metadata": {
        "id": "oYu4xDl1R_nF",
        "colab_type": "code",
        "colab": {}
      },
      "cell_type": "code",
      "source": [
        "X_oh = pd.DataFrame(columns=['F', 'M'])\n",
        "X = dt['infinitives']\n",
        "F = 0.\n",
        "M = 0.\n",
        "n = 0.\n",
        "for sentence in X:\n",
        "  F = 0.\n",
        "  M = 0.\n",
        "  for word in sentence:\n",
        "    if keyness_F.get(word) != None:\n",
        "      a = keyness_F[word]\n",
        "    else:\n",
        "      a = 0.\n",
        "    F = F + a\n",
        "    if keyness_M.get(word) != None:\n",
        "      b = keyness_M[word]\n",
        "    else:\n",
        "      b = 0.\n",
        "    M = M + b\n",
        "  X_oh = X_oh.append({'F': F, 'M': M}, ignore_index=True)\n",
        " "
      ],
      "execution_count": 0,
      "outputs": []
    },
    {
      "metadata": {
        "id": "lK-1qIb1PWXu",
        "colab_type": "code",
        "outputId": "526a2714-cd46-41dd-f91b-b0fc1550fca3",
        "colab": {
          "base_uri": "https://localhost:8080/",
          "height": 1906
        }
      },
      "cell_type": "code",
      "source": [
        "X_oh"
      ],
      "execution_count": 23,
      "outputs": [
        {
          "output_type": "execute_result",
          "data": {
            "text/html": [
              "<div>\n",
              "<style scoped>\n",
              "    .dataframe tbody tr th:only-of-type {\n",
              "        vertical-align: middle;\n",
              "    }\n",
              "\n",
              "    .dataframe tbody tr th {\n",
              "        vertical-align: top;\n",
              "    }\n",
              "\n",
              "    .dataframe thead th {\n",
              "        text-align: right;\n",
              "    }\n",
              "</style>\n",
              "<table border=\"1\" class=\"dataframe\">\n",
              "  <thead>\n",
              "    <tr style=\"text-align: right;\">\n",
              "      <th></th>\n",
              "      <th>F</th>\n",
              "      <th>M</th>\n",
              "    </tr>\n",
              "  </thead>\n",
              "  <tbody>\n",
              "    <tr>\n",
              "      <th>0</th>\n",
              "      <td>27.271507</td>\n",
              "      <td>26.620052</td>\n",
              "    </tr>\n",
              "    <tr>\n",
              "      <th>1</th>\n",
              "      <td>10.054866</td>\n",
              "      <td>11.924829</td>\n",
              "    </tr>\n",
              "    <tr>\n",
              "      <th>2</th>\n",
              "      <td>87.386670</td>\n",
              "      <td>105.480588</td>\n",
              "    </tr>\n",
              "    <tr>\n",
              "      <th>3</th>\n",
              "      <td>7.968612</td>\n",
              "      <td>10.045533</td>\n",
              "    </tr>\n",
              "    <tr>\n",
              "      <th>4</th>\n",
              "      <td>6.053988</td>\n",
              "      <td>7.926057</td>\n",
              "    </tr>\n",
              "    <tr>\n",
              "      <th>5</th>\n",
              "      <td>10.986035</td>\n",
              "      <td>17.025972</td>\n",
              "    </tr>\n",
              "    <tr>\n",
              "      <th>6</th>\n",
              "      <td>5.974880</td>\n",
              "      <td>12.055110</td>\n",
              "    </tr>\n",
              "    <tr>\n",
              "      <th>7</th>\n",
              "      <td>5.974880</td>\n",
              "      <td>9.039170</td>\n",
              "    </tr>\n",
              "    <tr>\n",
              "      <th>8</th>\n",
              "      <td>8.002273</td>\n",
              "      <td>15.020837</td>\n",
              "    </tr>\n",
              "    <tr>\n",
              "      <th>9</th>\n",
              "      <td>4.996028</td>\n",
              "      <td>5.005559</td>\n",
              "    </tr>\n",
              "    <tr>\n",
              "      <th>10</th>\n",
              "      <td>3.037846</td>\n",
              "      <td>6.959868</td>\n",
              "    </tr>\n",
              "    <tr>\n",
              "      <th>11</th>\n",
              "      <td>25.147611</td>\n",
              "      <td>29.798256</td>\n",
              "    </tr>\n",
              "    <tr>\n",
              "      <th>12</th>\n",
              "      <td>5.037310</td>\n",
              "      <td>10.969441</td>\n",
              "    </tr>\n",
              "    <tr>\n",
              "      <th>13</th>\n",
              "      <td>22.189460</td>\n",
              "      <td>24.746100</td>\n",
              "    </tr>\n",
              "    <tr>\n",
              "      <th>14</th>\n",
              "      <td>33.059785</td>\n",
              "      <td>33.917943</td>\n",
              "    </tr>\n",
              "    <tr>\n",
              "      <th>15</th>\n",
              "      <td>33.059785</td>\n",
              "      <td>33.917943</td>\n",
              "    </tr>\n",
              "    <tr>\n",
              "      <th>16</th>\n",
              "      <td>11.094498</td>\n",
              "      <td>13.875786</td>\n",
              "    </tr>\n",
              "    <tr>\n",
              "      <th>17</th>\n",
              "      <td>4.018301</td>\n",
              "      <td>8.985632</td>\n",
              "    </tr>\n",
              "    <tr>\n",
              "      <th>18</th>\n",
              "      <td>15.133023</td>\n",
              "      <td>21.830703</td>\n",
              "    </tr>\n",
              "    <tr>\n",
              "      <th>19</th>\n",
              "      <td>14.079576</td>\n",
              "      <td>16.891053</td>\n",
              "    </tr>\n",
              "    <tr>\n",
              "      <th>20</th>\n",
              "      <td>3.001387</td>\n",
              "      <td>5.001272</td>\n",
              "    </tr>\n",
              "    <tr>\n",
              "      <th>21</th>\n",
              "      <td>11.968096</td>\n",
              "      <td>18.059099</td>\n",
              "    </tr>\n",
              "    <tr>\n",
              "      <th>22</th>\n",
              "      <td>7.970736</td>\n",
              "      <td>8.040952</td>\n",
              "    </tr>\n",
              "    <tr>\n",
              "      <th>23</th>\n",
              "      <td>7.970736</td>\n",
              "      <td>8.040952</td>\n",
              "    </tr>\n",
              "    <tr>\n",
              "      <th>24</th>\n",
              "      <td>2.059288</td>\n",
              "      <td>4.925058</td>\n",
              "    </tr>\n",
              "    <tr>\n",
              "      <th>25</th>\n",
              "      <td>30.950179</td>\n",
              "      <td>34.072132</td>\n",
              "    </tr>\n",
              "    <tr>\n",
              "      <th>26</th>\n",
              "      <td>39.254388</td>\n",
              "      <td>47.651245</td>\n",
              "    </tr>\n",
              "    <tr>\n",
              "      <th>27</th>\n",
              "      <td>3.096626</td>\n",
              "      <td>5.869602</td>\n",
              "    </tr>\n",
              "    <tr>\n",
              "      <th>28</th>\n",
              "      <td>2.000328</td>\n",
              "      <td>4.003558</td>\n",
              "    </tr>\n",
              "    <tr>\n",
              "      <th>29</th>\n",
              "      <td>2.069083</td>\n",
              "      <td>4.910547</td>\n",
              "    </tr>\n",
              "    <tr>\n",
              "      <th>...</th>\n",
              "      <td>...</td>\n",
              "      <td>...</td>\n",
              "    </tr>\n",
              "    <tr>\n",
              "      <th>1412</th>\n",
              "      <td>21.244753</td>\n",
              "      <td>18.658641</td>\n",
              "    </tr>\n",
              "    <tr>\n",
              "      <th>1413</th>\n",
              "      <td>221.546458</td>\n",
              "      <td>164.088152</td>\n",
              "    </tr>\n",
              "    <tr>\n",
              "      <th>1414</th>\n",
              "      <td>11.117530</td>\n",
              "      <td>8.837825</td>\n",
              "    </tr>\n",
              "    <tr>\n",
              "      <th>1415</th>\n",
              "      <td>29.356010</td>\n",
              "      <td>27.502372</td>\n",
              "    </tr>\n",
              "    <tr>\n",
              "      <th>1416</th>\n",
              "      <td>33.166508</td>\n",
              "      <td>25.775027</td>\n",
              "    </tr>\n",
              "    <tr>\n",
              "      <th>1417</th>\n",
              "      <td>11.062151</td>\n",
              "      <td>7.915323</td>\n",
              "    </tr>\n",
              "    <tr>\n",
              "      <th>1418</th>\n",
              "      <td>4.968279</td>\n",
              "      <td>4.046113</td>\n",
              "    </tr>\n",
              "    <tr>\n",
              "      <th>1419</th>\n",
              "      <td>18.415586</td>\n",
              "      <td>13.570207</td>\n",
              "    </tr>\n",
              "    <tr>\n",
              "      <th>1420</th>\n",
              "      <td>10.075677</td>\n",
              "      <td>8.894671</td>\n",
              "    </tr>\n",
              "    <tr>\n",
              "      <th>1421</th>\n",
              "      <td>85.847458</td>\n",
              "      <td>77.823226</td>\n",
              "    </tr>\n",
              "    <tr>\n",
              "      <th>1422</th>\n",
              "      <td>21.179913</td>\n",
              "      <td>14.752250</td>\n",
              "    </tr>\n",
              "    <tr>\n",
              "      <th>1423</th>\n",
              "      <td>8.004676</td>\n",
              "      <td>5.994605</td>\n",
              "    </tr>\n",
              "    <tr>\n",
              "      <th>1424</th>\n",
              "      <td>8.091132</td>\n",
              "      <td>6.873044</td>\n",
              "    </tr>\n",
              "    <tr>\n",
              "      <th>1425</th>\n",
              "      <td>44.557216</td>\n",
              "      <td>38.223677</td>\n",
              "    </tr>\n",
              "    <tr>\n",
              "      <th>1426</th>\n",
              "      <td>17.417600</td>\n",
              "      <td>12.567389</td>\n",
              "    </tr>\n",
              "    <tr>\n",
              "      <th>1427</th>\n",
              "      <td>9.054576</td>\n",
              "      <td>6.928208</td>\n",
              "    </tr>\n",
              "    <tr>\n",
              "      <th>1428</th>\n",
              "      <td>27.207356</td>\n",
              "      <td>21.714418</td>\n",
              "    </tr>\n",
              "    <tr>\n",
              "      <th>1429</th>\n",
              "      <td>20.167622</td>\n",
              "      <td>16.768301</td>\n",
              "    </tr>\n",
              "    <tr>\n",
              "      <th>1430</th>\n",
              "      <td>14.074166</td>\n",
              "      <td>7.907684</td>\n",
              "    </tr>\n",
              "    <tr>\n",
              "      <th>1431</th>\n",
              "      <td>59.541060</td>\n",
              "      <td>46.256045</td>\n",
              "    </tr>\n",
              "    <tr>\n",
              "      <th>1432</th>\n",
              "      <td>19.987165</td>\n",
              "      <td>11.024280</td>\n",
              "    </tr>\n",
              "    <tr>\n",
              "      <th>1433</th>\n",
              "      <td>0.999523</td>\n",
              "      <td>1.000668</td>\n",
              "    </tr>\n",
              "    <tr>\n",
              "      <th>1434</th>\n",
              "      <td>8.011386</td>\n",
              "      <td>4.990945</td>\n",
              "    </tr>\n",
              "    <tr>\n",
              "      <th>1435</th>\n",
              "      <td>8.063030</td>\n",
              "      <td>7.911796</td>\n",
              "    </tr>\n",
              "    <tr>\n",
              "      <th>1436</th>\n",
              "      <td>9.096899</td>\n",
              "      <td>5.867843</td>\n",
              "    </tr>\n",
              "    <tr>\n",
              "      <th>1437</th>\n",
              "      <td>19.416333</td>\n",
              "      <td>15.568587</td>\n",
              "    </tr>\n",
              "    <tr>\n",
              "      <th>1438</th>\n",
              "      <td>10.980144</td>\n",
              "      <td>9.029510</td>\n",
              "    </tr>\n",
              "    <tr>\n",
              "      <th>1439</th>\n",
              "      <td>7.054270</td>\n",
              "      <td>4.925204</td>\n",
              "    </tr>\n",
              "    <tr>\n",
              "      <th>1440</th>\n",
              "      <td>17.247165</td>\n",
              "      <td>14.655266</td>\n",
              "    </tr>\n",
              "    <tr>\n",
              "      <th>1441</th>\n",
              "      <td>19.105654</td>\n",
              "      <td>15.855018</td>\n",
              "    </tr>\n",
              "  </tbody>\n",
              "</table>\n",
              "<p>1442 rows × 2 columns</p>\n",
              "</div>"
            ],
            "text/plain": [
              "               F           M\n",
              "0      27.271507   26.620052\n",
              "1      10.054866   11.924829\n",
              "2      87.386670  105.480588\n",
              "3       7.968612   10.045533\n",
              "4       6.053988    7.926057\n",
              "5      10.986035   17.025972\n",
              "6       5.974880   12.055110\n",
              "7       5.974880    9.039170\n",
              "8       8.002273   15.020837\n",
              "9       4.996028    5.005559\n",
              "10      3.037846    6.959868\n",
              "11     25.147611   29.798256\n",
              "12      5.037310   10.969441\n",
              "13     22.189460   24.746100\n",
              "14     33.059785   33.917943\n",
              "15     33.059785   33.917943\n",
              "16     11.094498   13.875786\n",
              "17      4.018301    8.985632\n",
              "18     15.133023   21.830703\n",
              "19     14.079576   16.891053\n",
              "20      3.001387    5.001272\n",
              "21     11.968096   18.059099\n",
              "22      7.970736    8.040952\n",
              "23      7.970736    8.040952\n",
              "24      2.059288    4.925058\n",
              "25     30.950179   34.072132\n",
              "26     39.254388   47.651245\n",
              "27      3.096626    5.869602\n",
              "28      2.000328    4.003558\n",
              "29      2.069083    4.910547\n",
              "...          ...         ...\n",
              "1412   21.244753   18.658641\n",
              "1413  221.546458  164.088152\n",
              "1414   11.117530    8.837825\n",
              "1415   29.356010   27.502372\n",
              "1416   33.166508   25.775027\n",
              "1417   11.062151    7.915323\n",
              "1418    4.968279    4.046113\n",
              "1419   18.415586   13.570207\n",
              "1420   10.075677    8.894671\n",
              "1421   85.847458   77.823226\n",
              "1422   21.179913   14.752250\n",
              "1423    8.004676    5.994605\n",
              "1424    8.091132    6.873044\n",
              "1425   44.557216   38.223677\n",
              "1426   17.417600   12.567389\n",
              "1427    9.054576    6.928208\n",
              "1428   27.207356   21.714418\n",
              "1429   20.167622   16.768301\n",
              "1430   14.074166    7.907684\n",
              "1431   59.541060   46.256045\n",
              "1432   19.987165   11.024280\n",
              "1433    0.999523    1.000668\n",
              "1434    8.011386    4.990945\n",
              "1435    8.063030    7.911796\n",
              "1436    9.096899    5.867843\n",
              "1437   19.416333   15.568587\n",
              "1438   10.980144    9.029510\n",
              "1439    7.054270    4.925204\n",
              "1440   17.247165   14.655266\n",
              "1441   19.105654   15.855018\n",
              "\n",
              "[1442 rows x 2 columns]"
            ]
          },
          "metadata": {
            "tags": []
          },
          "execution_count": 23
        }
      ]
    },
    {
      "metadata": {
        "id": "YDB5DJBMWw7D",
        "colab_type": "code",
        "outputId": "002fdcfd-6c4a-4f70-c2b0-667917cca166",
        "colab": {
          "base_uri": "https://localhost:8080/",
          "height": 34
        }
      },
      "cell_type": "code",
      "source": [
        "X_oh.shape"
      ],
      "execution_count": 24,
      "outputs": [
        {
          "output_type": "execute_result",
          "data": {
            "text/plain": [
              "(1442, 2)"
            ]
          },
          "metadata": {
            "tags": []
          },
          "execution_count": 24
        }
      ]
    },
    {
      "metadata": {
        "id": "A1eCXfeIW2yd",
        "colab_type": "code",
        "colab": {}
      },
      "cell_type": "code",
      "source": [
        "y = dt['gender']\n",
        "from sklearn.model_selection import train_test_split\n",
        "(X_train, X_test, y_train, y_test) = train_test_split(X_oh, y, test_size=0.3, \n",
        "                                     random_state=0)"
      ],
      "execution_count": 0,
      "outputs": []
    },
    {
      "metadata": {
        "id": "W50fv5XjZgVN",
        "colab_type": "code",
        "outputId": "4ef1091c-d9b7-41f3-a188-56cbeede0e46",
        "colab": {
          "base_uri": "https://localhost:8080/",
          "height": 123
        }
      },
      "cell_type": "code",
      "source": [
        "from sklearn.linear_model import LogisticRegression\n",
        "model = LogisticRegression(class_weight='balanced')\n",
        "model.fit(X_train, y_train)"
      ],
      "execution_count": 28,
      "outputs": [
        {
          "output_type": "stream",
          "text": [
            "/usr/local/lib/python3.6/dist-packages/sklearn/linear_model/logistic.py:433: FutureWarning: Default solver will be changed to 'lbfgs' in 0.22. Specify a solver to silence this warning.\n",
            "  FutureWarning)\n"
          ],
          "name": "stderr"
        },
        {
          "output_type": "execute_result",
          "data": {
            "text/plain": [
              "LogisticRegression(C=1.0, class_weight='balanced', dual=False,\n",
              "          fit_intercept=True, intercept_scaling=1, max_iter=100,\n",
              "          multi_class='warn', n_jobs=None, penalty='l2', random_state=None,\n",
              "          solver='warn', tol=0.0001, verbose=0, warm_start=False)"
            ]
          },
          "metadata": {
            "tags": []
          },
          "execution_count": 28
        }
      ]
    },
    {
      "metadata": {
        "id": "L0fMOdcqZluG",
        "colab_type": "code",
        "outputId": "ac428fe2-7f5a-4125-fdb7-1558d2318fce",
        "colab": {
          "base_uri": "https://localhost:8080/",
          "height": 176
        }
      },
      "cell_type": "code",
      "source": [
        "from sklearn.metrics import classification_report\n",
        "from sklearn.metrics import accuracy_score\n",
        "y_pred = model.predict(X_test)\n",
        "print(classification_report(y_test, y_pred))"
      ],
      "execution_count": 30,
      "outputs": [
        {
          "output_type": "stream",
          "text": [
            "              precision    recall  f1-score   support\n",
            "\n",
            "           F       0.99      0.92      0.95       223\n",
            "           M       0.92      0.99      0.95       210\n",
            "\n",
            "   micro avg       0.95      0.95      0.95       433\n",
            "   macro avg       0.95      0.95      0.95       433\n",
            "weighted avg       0.96      0.95      0.95       433\n",
            "\n"
          ],
          "name": "stdout"
        }
      ]
    },
    {
      "metadata": {
        "id": "gCm8H0nrZly9",
        "colab_type": "code",
        "outputId": "f1a2779a-fb45-4384-f64d-ab21df8e09d3",
        "colab": {
          "base_uri": "https://localhost:8080/",
          "height": 34
        }
      },
      "cell_type": "code",
      "source": [
        "print (accuracy_score(y_test, y_pred))"
      ],
      "execution_count": 31,
      "outputs": [
        {
          "output_type": "stream",
          "text": [
            "0.953810623556582\n"
          ],
          "name": "stdout"
        }
      ]
    },
    {
      "metadata": {
        "id": "p3m6kNDMZ1c8",
        "colab_type": "code",
        "colab": {}
      },
      "cell_type": "code",
      "source": [
        ""
      ],
      "execution_count": 0,
      "outputs": []
    }
  ]
}