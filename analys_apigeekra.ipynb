{
 "cells": [
  {
   "cell_type": "code",
   "execution_count": 6,
   "metadata": {},
   "outputs": [],
   "source": [
    "import psycopg2  \n",
    "import pprint  "
   ]
  },
  {
   "cell_type": "code",
   "execution_count": 41,
   "metadata": {},
   "outputs": [],
   "source": [
    "import psycopg2\n",
    "import pandas as pd\n",
    "conn = psycopg2.connect(dbname='yalgdb', user='postgres',\n",
    "                            password='password', host='localhost', port=5439)\n",
    "cursor = conn.cursor()\n",
    "\n",
    "cursor.execute(\"SELECT data.type, data.gender, COUNT(data.count) FROM (WordCountAttributes NATURAL JOIN WORDS) \\\n",
    "                AS data GROUP BY data.type, data.gender\")\n",
    "rows = cursor.fetchall()\n",
    "conn.close() \n"
   ]
  },
  {
   "cell_type": "code",
   "execution_count": 42,
   "metadata": {},
   "outputs": [
    {
     "data": {
      "image/png": "[encoded data removed]",
      "text/plain": [
       "<Figure size 432x288 with 1 Axes>"
      ]
     },
     "metadata": {
      "needs_background": "light"
     },
     "output_type": "display_data"
    }
   ],
   "source": [
    "import numpy as np\n",
    "import matplotlib.pyplot as plt\n",
    "\n",
    "fig = plt.figure()\n",
    "ax = fig.add_subplot(111)\n",
    "\n",
    "## the data\n",
    "men = []\n",
    "women = []\n",
    "N = []\n",
    "for row in rows:\n",
    "    if row[1] == \"male\":\n",
    "        men.append(row[2])\n",
    "    elif row[1] == \"female\":\n",
    "        women.append(row[2])\n",
    "    else:\n",
    "        N.append(row[2])\n",
    "## necessary variables\n",
    "ind = np.arange(len(men))             # the x locations for the groups\n",
    "width = 0.3                     # the width of the bars\n",
    "\n",
    "## the bars\n",
    "rects1 = ax.bar(ind, men, width, color='black')\n",
    "\n",
    "rects2 = ax.bar(ind+width, women, width, color='red')\n",
    "\n",
    "rects3 = ax.bar(ind+width+width, N, width, color='yellow')\n",
    "\n",
    "# axes and labels\n",
    "ax.set_xlim(-width,len(ind)+3*width)\n",
    "ax.set_ylim(0,150000)\n",
    "ax.set_ylabel('Count')\n",
    "ax.set_title('Count by group and gender')\n",
    "xTickMarks = ['A', 'C', 'I', 'M', 'N', 'Q', 'P', 'R', 'S', 'V', 'Y']\n",
    "ax.set_xticks(ind+2*width)\n",
    "xtickNames = ax.set_xticklabels(xTickMarks)\n",
    "plt.setp(xtickNames, rotation=45, fontsize=10)\n",
    "\n",
    "## add a legend\n",
    "ax.legend( (rects1[0], rects2[0], rects3[0]), ('Men', 'Women', 'N') )\n",
    "\n",
    "plt.show()\n"
   ]
  },
  {
   "cell_type": "code",
   "execution_count": 55,
   "metadata": {},
   "outputs": [],
   "source": [
    "import psycopg2\n",
    "import pandas as pd\n",
    "conn = psycopg2.connect(dbname='yalgdb', user='postgres',\n",
    "                            password='password', host='localhost', port=5439)\n",
    "cursor = conn.cursor()\n",
    "\n",
    "cursor.execute(\"SELECT data.word, data.gender, COUNT(data.count) as cnt FROM (WordCountAttributes NATURAL JOIN WORDS) \\\n",
    "                AS data WHERE data.gender = 'female' GROUP BY data.word, data.gender \\\n",
    "                ORDER BY data.gender, cnt DESC\")\n",
    "rows = cursor.fetchall()\n",
    "conn.close() \n"
   ]
  },
  {
   "cell_type": "code",
   "execution_count": 57,
   "metadata": {},
   "outputs": [],
   "source": [
    "import psycopg2\n",
    "import pandas as pd\n",
    "conn = psycopg2.connect(dbname='yalgdb', user='postgres',\n",
    "                            password='password', host='localhost', port=5439)\n",
    "cursor = conn.cursor()\n",
    "\n",
    "cursor.execute(\"SELECT data.word, data.gender, COUNT(data.count) as cnt FROM (WordCountAttributes NATURAL JOIN WORDS) \\\n",
    "                AS data WHERE data.gender = 'male' GROUP BY data.word, data.gender \\\n",
    "                ORDER BY data.gender, cnt DESC\")\n",
    "rows2 = cursor.fetchall()\n",
    "conn.close() "
   ]
  },
  {
   "cell_type": "code",
   "execution_count": 58,
   "metadata": {},
   "outputs": [],
   "source": [
    "words_by_female = [row[0] for row in rows]\n",
    "words_by_male = [row[0] for row in rows2]"
   ]
  },
  {
   "cell_type": "code",
   "execution_count": 59,
   "metadata": {},
   "outputs": [],
   "source": [
    "from stop_words import get_stop_words\n",
    "\n",
    "stop_words = get_stop_words('ru')\n",
    "\n",
    "words_by_female_delete_stop_words = [word for word in words_by_female if word not in stop_words]\n",
    "words_by_male_delete_stop_words = [word for word in words_by_male if word not in stop_words]"
   ]
  },
  {
   "cell_type": "code",
   "execution_count": 61,
   "metadata": {},
   "outputs": [
    {
     "name": "stdout",
     "output_type": "stream",
     "text": [
      "['свой', 'любить', 'друг', 'знать', 'новый', 'самый', 'фото', 'любовь', 'нужный', 'хороший'] ['свой', 'друг', 'игра', 'новый', 'самый', 'любить', 'знать', 'мир', 'смотреть', 'слово']\n"
     ]
    }
   ],
   "source": [
    "print(words_by_female_delete_stop_words[:10], words_by_male_delete_stop_words[:10])"
   ]
  },
  {
   "cell_type": "code",
   "execution_count": 143,
   "metadata": {},
   "outputs": [],
   "source": [
    "import psycopg2\n",
    "\n",
    "conn = psycopg2.connect(dbname='yalgdb', user='postgres',\n",
    "                            password='password', host='localhost', port=5439)\n",
    "cursor = conn.cursor()\n",
    "\n",
    "cursor.execute(\"SELECT data.type,\\\n",
    "                CASE \\\n",
    "                   when (data.year - data.year_of_birth) <= 17 then 17\\\n",
    "                   when (data.year - data.year_of_birth) <= 25 and (data.year - data.year_of_birth) > 17 then 25\\\n",
    "                   when (data.year - data.year_of_birth) > 25 and (data.year - data.year_of_birth) <= 35 then 35\\\n",
    "                   when (data.year - data.year_of_birth) > 35 and (data.year - data.year_of_birth) <= 50 then 50\\\n",
    "                   when (data.year - data.year_of_birth) > 50 and (data.year - data.year_of_birth) <= 80 then 80\\\n",
    "                   when (data.year - data.year_of_birth) > 80               then 81\\\n",
    "                end as old, COUNT(data.count) \\\n",
    "                FROM (WordCountAttributes NATURAL JOIN WORDS) \\\n",
    "                AS data GROUP BY data.type, old \")\n",
    "\n",
    "rows = cursor.fetchall()\n",
    "conn.close() \n"
   ]
  },
  {
   "cell_type": "code",
   "execution_count": 169,
   "metadata": {},
   "outputs": [
    {
     "data": {
      "image/png": "[encoded data removed]",
      "text/plain": [
       "<Figure size 432x288 with 1 Axes>"
      ]
     },
     "metadata": {
      "needs_background": "light"
     },
     "output_type": "display_data"
    }
   ],
   "source": [
    "import numpy as np\n",
    "import matplotlib.pyplot as plt\n",
    "\n",
    "fig = plt.figure(1)\n",
    "ax = fig.add_subplot(111)\n",
    "\n",
    "## the data\n",
    "lgr17 = []\n",
    "lgr25 = []\n",
    "lgr35 = []\n",
    "lgr50 = []\n",
    "lgr80 = []\n",
    "ggr80 = []\n",
    "N = []\n",
    "for row in rows:\n",
    "    if row[1] == 17:\n",
    "        lgr17.append(row[2])\n",
    "    elif row[1] == 25:\n",
    "        lgr25.append(row[2])\n",
    "    elif row[1] == 35:\n",
    "        lgr35.append(row[2])\n",
    "    elif row[1] == 50:\n",
    "        lgr50.append(row[2])\n",
    "    elif row[1] == 80:\n",
    "        lgr80.append(row[2])\n",
    "    elif row[1] == 81:\n",
    "        ggr80.append(row[2])\n",
    "    else:\n",
    "        N.append(row[2])\n",
    "ggr80.append(0)\n",
    "## necessary variables\n",
    "ind = np.arange(len(men))*5            # the x locations for the groups\n",
    "width = 0.5                   # the width of the bars\n",
    "\n",
    "## the bars\n",
    "rects1 = ax.bar(ind, lgr17, width, color='black')\n",
    "\n",
    "rects2 = ax.bar(ind+width, lgr25, width, color='red')\n",
    "\n",
    "rects3 = ax.bar(ind+2*width, lgr35, width, color='green')\n",
    "\n",
    "rects4 = ax.bar(ind+3*width, lgr50, width, color='blue')\n",
    "\n",
    "rects5 = ax.bar(ind+4*width, lgr80, width, color='orange')\n",
    "\n",
    "rects6 = ax.bar(ind+5*width, ggr80, width, color='brown')\n",
    "\n",
    "#rects7 = ax.bar(ind+6*width, N, width, color='yellow')\n",
    "\n",
    "# axes and labels\n",
    "ax.set_xlim(-width,len(ind)+5*width)\n",
    "ax.set_ylim(0,30000)\n",
    "ax.set_ylabel('Count')\n",
    "ax.set_title('Count by group and old')\n",
    "xTickMarks = ['A', 'C', 'I', 'M', 'N', 'Q', 'R', 'S', 'V', 'Y']\n",
    "ax.set_xticks(ind+width)\n",
    "xtickNames = ax.set_xticklabels(xTickMarks)\n",
    "plt.setp(xtickNames, rotation=45, fontsize=10)\n",
    "\n",
    "## add a legend\n",
    "ax.legend( (rects1[0], rects2[0], rects3[0], rects4[0], rects5[0], rects6[0]), ('lgr17', 'lgr25', 'lgr35', 'lgr50', 'lgr80', 'ggr80') )\n",
    "\n",
    "plt.show()"
   ]
  },
  {
   "cell_type": "markdown",
   "metadata": {},
   "source": [
    "Y аббревиатура\n",
    "Q частица\n",
    "V глагол\n",
    "S предлог\n",
    "R наречие\n",
    "I междометие\n",
    "A прилагательное\n",
    "C союз\n",
    "N существительное\n",
    "P местоимение\n",
    "M числительное"
   ]
  },
  {
   "cell_type": "code",
   "execution_count": 31,
   "metadata": {},
   "outputs": [],
   "source": [
    "import psycopg2\n",
    "\n",
    "conn = psycopg2.connect(dbname='yalgdb', user='postgres',\n",
    "                            password='password', host='localhost', port=5439)\n",
    "cursor = conn.cursor()\n",
    "\n",
    "cursor.execute(\"SELECT data.type,\\\n",
    "                CASE \\\n",
    "                   when data.city = 'Москва' then 'Москва'\\\n",
    "                   when data.city = 'Петербург' then 'Петербург'\\\n",
    "                   when data.city = 'Киев' then 'Киев'\\\n",
    "                   when data.city = 'Краснодар' then 'Краснодар'\\\n",
    "                   when data.city = 'Казань' then 'Казань'\\\n",
    "                   when data.city is NULL then 'None'\\\n",
    "                   else 'остальные'\\\n",
    "                end as ct, COUNT(data.count) \\\n",
    "                FROM (WordCountAttributes NATURAL JOIN WORDS) AS data \\\n",
    "                GROUP BY data.type, ct\\\n",
    "                ORDER BY data.type, ct \")\n",
    "\n",
    "rows = cursor.fetchall()\n",
    "conn.close() \n"
   ]
  },
  {
   "cell_type": "code",
   "execution_count": 40,
   "metadata": {},
   "outputs": [
    {
     "data": {
      "image/png": "[encoded data removed]",
      "text/plain": [
       "<Figure size 432x288 with 1 Axes>"
      ]
     },
     "metadata": {
      "needs_background": "light"
     },
     "output_type": "display_data"
    }
   ],
   "source": [
    "import numpy as np\n",
    "import matplotlib.pyplot as plt\n",
    "\n",
    "fig = plt.figure(1)\n",
    "ax = fig.add_subplot(111)\n",
    "\n",
    "## the data\n",
    "mos = []\n",
    "saint = []\n",
    "kiev = []\n",
    "kras = []\n",
    "kazan = []\n",
    "el = []\n",
    "\n",
    "for row in rows:\n",
    "    if row[1] == \"Москва\":\n",
    "        mos.append(row[2])\n",
    "    elif row[1] == \"Петербург\":\n",
    "        saint.append(row[2])\n",
    "    elif row[1] == \"Киев\":\n",
    "        kiev.append(row[2])\n",
    "    elif row[1] == \"Краснодар\":\n",
    "        kras.append(row[2])\n",
    "    elif row[1] == \"Казань\":\n",
    "        kazan.append(row[2])\n",
    "    elif row[1] == \"остальные\":\n",
    "        el.append(row[2])\n",
    "    else:\n",
    "        continue\n",
    "\n",
    "## necessary variables\n",
    "ind = np.arange(len(mos))*5            # the x locations for the groups\n",
    "width = 0.5                   # the width of the bars\n",
    "kazan.append(0)\n",
    "kras.append(0)\n",
    "## the bars\n",
    "rects1 = ax.bar(ind, kazan, width, color='black')\n",
    "\n",
    "rects2 = ax.bar(ind+width, kiev, width, color='red')\n",
    "\n",
    "rects3 = ax.bar(ind+2*width, kras, width, color='green')\n",
    "\n",
    "rects4 = ax.bar(ind+3*width, el, width, color='blue')\n",
    "\n",
    "rects5 = ax.bar(ind+4*width, mos, width, color='orange')\n",
    "\n",
    "rects6 = ax.bar(ind+5*width, saint, width, color='brown')\n",
    "\n",
    "#rects7 = ax.bar(ind+6*width, N, width, color='yellow')\n",
    "\n",
    "# axes and labels\n",
    "ax.set_xlim(-width,len(ind)+5*width)\n",
    "ax.set_ylim(0,30000)\n",
    "ax.set_ylabel('Count')\n",
    "ax.set_title('Count by group and old')\n",
    "xTickMarks = ['A', 'C', 'I', 'M', 'N', 'P', 'Q', 'R', 'S', 'V', 'Y']\n",
    "ax.set_xticks(ind+width)\n",
    "xtickNames = ax.set_xticklabels(xTickMarks)\n",
    "plt.setp(xtickNames, rotation=45, fontsize=10)\n",
    "\n",
    "## add a legend\n",
    "ax.legend( (rects1[0], rects2[0], rects3[0], rects4[0], rects5[0], rects6[0]), ('Казань',  'Киев', 'Краснодар', 'остальные', 'Москва', 'Петербург' ) )\n",
    "\n",
    "plt.show()"
   ]
  },
  {
   "cell_type": "code",
   "execution_count": null,
   "metadata": {},
   "outputs": [],
   "source": []
  }
 ],
 "metadata": {
  "kernelspec": {
   "display_name": "Python 3",
   "language": "python",
   "name": "python3"
  },
  "language_info": {
   "codemirror_mode": {
    "name": "ipython",
    "version": 3
   },
   "file_extension": ".py",
   "mimetype": "text/x-python",
   "name": "python",
   "nbconvert_exporter": "python",
   "pygments_lexer": "ipython3",
   "version": "3.6.7"
  }
 },
 "nbformat": 4,
 "nbformat_minor": 2
}
